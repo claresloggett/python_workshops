{
 "metadata": {
  "name": "",
  "signature": "sha256:1bb7fda7160cce3511756271143ac832946874dbee8f17d360e71fa5c3af6b14"
 },
 "nbformat": 3,
 "nbformat_minor": 0,
 "worksheets": [
  {
   "cells": [
    {
     "cell_type": "heading",
     "level": 1,
     "metadata": {},
     "source": [
      "Introductory Programming in Python"
     ]
    },
    {
     "cell_type": "markdown",
     "metadata": {},
     "source": [
      "This workshop aims to teach some fundamentals of programming, using Python. We won't have time to cover all the concepts involved in programming, but we will give an introduction."
     ]
    },
    {
     "cell_type": "markdown",
     "metadata": {},
     "source": [
      "In this workshop we'll work towards a final goal: write a program in Python to calculate the Hamming distance.\n",
      "\n",
      "To do this we'll need to learn about:\n",
      "\n",
      "- writing functions\n",
      "- using variables\n",
      "- conditionals (if statements)\n",
      "- loops (for statements)\n",
      "- lists\n",
      "- strings\n",
      "\n",
      "If you can do this, you'll have learnt lots of important programming concepts, and implemented our first bioinformatics algorithm!"
     ]
    },
    {
     "cell_type": "heading",
     "level": 2,
     "metadata": {},
     "source": [
      "Hamming distance"
     ]
    },
    {
     "cell_type": "markdown",
     "metadata": {},
     "source": [
      "The Hamming distance between two strings is the number of positions at which they have different characters.\n",
      "\n",
      "For instance, compare these strings:\n",
      "\n",
      "    GATTACA\n",
      "    GACTATA\n",
      "\n",
      "They are different at two locations:\n",
      "\n",
      "    GATTACA\n",
      "      |  |\n",
      "    GACTATA\n",
      "\n",
      "So the Hamming distance is 2."
     ]
    },
    {
     "cell_type": "markdown",
     "metadata": {},
     "source": [
      "Hamming distance is the simplest edit distance algorithm that we looked at for string alignment. It tells us the edit distance between two strings if we're only allowed to make substitutions - no insertions or deletions."
     ]
    },
    {
     "cell_type": "markdown",
     "metadata": {},
     "source": [
      "The concept of Hamming distance applies to any kind of string, not just DNA sequences. As an exercise, work out (on paper) the Hamming distance between `QUANTUM` and `QUENTIN`."
     ]
    },
    {
     "cell_type": "markdown",
     "metadata": {},
     "source": [
      "Short words are easy to do on paper, or in your head. Can you find the Hamming distance between:\n",
      "\n",
      "    ACTGTGCAATACCTAAGTGAAAGGGGTGCATAGATCATTCTTTCGTTACCTCGGGTGCTATGAAGTGGACCATCATTGAGAC\n",
      "    ACTCCTCTGTGTCTAAGTGAAAGGGGTGCTTGCAGGGTAATCCTTCCACCTGATACCGACTCGGGTGGACCATCATTGACGG\n",
      "\n",
      "This is pretty painful to do by hand. For real analysis you might need to compare strings hundreds or thousands of letters long, and do it again and again.\n",
      "\n",
      "But this is exactly what computers are for. Once we've written a program to calculate Hamming distance, we'll be able to compare lots of long strings easily. \n",
      "\n",
      "Our final goal for the workshop is to solve this problem!"
     ]
    },
    {
     "cell_type": "heading",
     "level": 2,
     "metadata": {},
     "source": [
      "Data types and variables"
     ]
    },
    {
     "cell_type": "markdown",
     "metadata": {},
     "source": [
      "We want to write programms so we can perform calculations on data. For instance, to answer the question above, we want to deal with the strings \"GATTACA\" and \"GACTATA\". We can tell the program to keep these strings in memory by assigning them to a **variable**."
     ]
    },
    {
     "cell_type": "markdown",
     "metadata": {
      "cell_tags": []
     },
     "source": [
      "A variable is just a name for a value,\n",
      "such as `x`, `current_temperature`, or `subject_id`.\n",
      "We can create a new variable simply by assigning a value to it using `=`:"
     ]
    },
    {
     "cell_type": "code",
     "collapsed": false,
     "input": [
      "dna_string = \"GACTATA\""
     ],
     "language": "python",
     "metadata": {},
     "outputs": [],
     "prompt_number": 1
    },
    {
     "cell_type": "markdown",
     "metadata": {},
     "source": [
      "Once a variable has a value, we can print it:"
     ]
    },
    {
     "cell_type": "code",
     "collapsed": false,
     "input": [
      "print dna_string"
     ],
     "language": "python",
     "metadata": {},
     "outputs": [
      {
       "output_type": "stream",
       "stream": "stdout",
       "text": [
        "GACTATA\n"
       ]
      }
     ],
     "prompt_number": 2
    },
    {
     "cell_type": "markdown",
     "metadata": {},
     "source": [
      "Notice that we told Python that \"GACTATA\" is our string data by putting quotes around it. The variable names do not need quotes.\n",
      "\n",
      "The value we assign to a variable does not need to be a string. It could be a number, for instance:"
     ]
    },
    {
     "cell_type": "code",
     "collapsed": false,
     "input": [
      "weight_kg = 55"
     ],
     "language": "python",
     "metadata": {
      "cell_tags": []
     },
     "outputs": [],
     "prompt_number": 3
    },
    {
     "cell_type": "markdown",
     "metadata": {
      "cell_tags": []
     },
     "source": [
      "Just as before, now the variable has a value, we can print it:"
     ]
    },
    {
     "cell_type": "code",
     "collapsed": false,
     "input": [
      "print weight_kg"
     ],
     "language": "python",
     "metadata": {
      "cell_tags": []
     },
     "outputs": [
      {
       "output_type": "stream",
       "stream": "stdout",
       "text": [
        "55\n"
       ]
      }
     ],
     "prompt_number": 4
    },
    {
     "cell_type": "markdown",
     "metadata": {
      "cell_tags": []
     },
     "source": [
      "and since it's a number, we can do arithmetic with it:"
     ]
    },
    {
     "cell_type": "code",
     "collapsed": false,
     "input": [
      "print 'weight in pounds:', 2.2 * weight_kg"
     ],
     "language": "python",
     "metadata": {
      "cell_tags": []
     },
     "outputs": [
      {
       "output_type": "stream",
       "stream": "stdout",
       "text": [
        "weight in pounds: 121.0\n"
       ]
      }
     ],
     "prompt_number": 5
    },
    {
     "cell_type": "markdown",
     "metadata": {
      "cell_tags": []
     },
     "source": [
      "We can also change a variable's value by assigning it a new one:"
     ]
    },
    {
     "cell_type": "code",
     "collapsed": false,
     "input": [
      "weight_kg = 57.5\n",
      "print 'weight in kilograms is now:', weight_kg"
     ],
     "language": "python",
     "metadata": {
      "cell_tags": []
     },
     "outputs": [
      {
       "output_type": "stream",
       "stream": "stdout",
       "text": [
        "weight in kilograms is now: 57.5\n"
       ]
      }
     ],
     "prompt_number": 6
    },
    {
     "cell_type": "markdown",
     "metadata": {
      "cell_tags": []
     },
     "source": [
      "As the example above shows,\n",
      "we can print several things at once by separating them with commas.\n",
      "\n",
      "If we imagine the variable as a sticky note with a name written on it,\n",
      "assignment is like putting the sticky note on a particular value:"
     ]
    },
    {
     "cell_type": "markdown",
     "metadata": {
      "cell_tags": []
     },
     "source": [
      "<img src=\"files/img/python-sticky-note-variables-01.svg\" alt=\"Variables as Sticky Notes\" />"
     ]
    },
    {
     "cell_type": "markdown",
     "metadata": {
      "cell_tags": []
     },
     "source": [
      "This means that assigning a value to one variable does *not* change the values of other variables.\n",
      "For example,\n",
      "let's store the subject's weight in pounds in a variable:"
     ]
    },
    {
     "cell_type": "code",
     "collapsed": false,
     "input": [
      "weight_lb = 2.2 * weight_kg\n",
      "print 'weight in kilograms:', weight_kg, 'and in pounds:', weight_lb"
     ],
     "language": "python",
     "metadata": {
      "cell_tags": []
     },
     "outputs": [
      {
       "output_type": "stream",
       "stream": "stdout",
       "text": [
        "weight in kilograms: 57.5 and in pounds: 126.5\n"
       ]
      }
     ],
     "prompt_number": 7
    },
    {
     "cell_type": "markdown",
     "metadata": {},
     "source": [
      "<img src=\"files/img/python-sticky-note-variables-02.svg\" alt=\"Creating Another Variable\" />"
     ]
    },
    {
     "cell_type": "markdown",
     "metadata": {
      "cell_tags": []
     },
     "source": [
      "and then change `weight_kg`:"
     ]
    },
    {
     "cell_type": "code",
     "collapsed": false,
     "input": [
      "weight_kg = 100.0\n",
      "print 'weight in kilograms is now:', weight_kg, 'and weight in pounds is still:', weight_lb"
     ],
     "language": "python",
     "metadata": {
      "cell_tags": []
     },
     "outputs": [
      {
       "output_type": "stream",
       "stream": "stdout",
       "text": [
        "weight in kilograms is now: 100.0 and weight in pounds is still: 126.5\n"
       ]
      }
     ],
     "prompt_number": 8
    },
    {
     "cell_type": "markdown",
     "metadata": {},
     "source": [
      "<img src=\"files/img/python-sticky-note-variables-03.svg\" alt=\"Updating a Variable\" />"
     ]
    },
    {
     "cell_type": "markdown",
     "metadata": {
      "cell_tags": [
       "challenges"
      ]
     },
     "source": [
      "#### Challenges\n",
      "\n",
      "1.  Draw diagrams showing what variables refer to what values after each statement in the following program:\n",
      "\n",
      "    ~~~python\n",
      "    mass = 47.5\n",
      "    age = 122\n",
      "    mass = mass * 2.0\n",
      "    age = age - 20\n",
      "    ~~~\n",
      "\n",
      "1.  Think and answer: what would the following program print out?\n",
      "\n",
      "    ~~~python\n",
      "    first = 3\n",
      "    second = 7\n",
      "    first = 2\n",
      "    print first, second\n",
      "    ~~~"
     ]
    },
    {
     "cell_type": "markdown",
     "metadata": {},
     "source": [
      "Data can be of different types, and this is important when programming. For instance, you can do arithmetic with the variable `weight_kg` because it is a number. If you try to do arithmetic with `dna_string` you will get an error, as this doesn't make sense for strings."
     ]
    },
    {
     "cell_type": "code",
     "collapsed": false,
     "input": [
      "print (weight_kg / 2)"
     ],
     "language": "python",
     "metadata": {},
     "outputs": [
      {
       "output_type": "stream",
       "stream": "stdout",
       "text": [
        "50.0\n"
       ]
      }
     ],
     "prompt_number": 9
    },
    {
     "cell_type": "code",
     "collapsed": false,
     "input": [
      "print (dna_string / 2)"
     ],
     "language": "python",
     "metadata": {},
     "outputs": [
      {
       "ename": "TypeError",
       "evalue": "unsupported operand type(s) for /: 'str' and 'int'",
       "output_type": "pyerr",
       "traceback": [
        "\u001b[0;31m---------------------------------------------------------------------------\u001b[0m\n\u001b[0;31mTypeError\u001b[0m                                 Traceback (most recent call last)",
        "\u001b[0;32m<ipython-input-10-d57b29287da7>\u001b[0m in \u001b[0;36m<module>\u001b[0;34m()\u001b[0m\n\u001b[0;32m----> 1\u001b[0;31m \u001b[0;32mprint\u001b[0m \u001b[0;34m(\u001b[0m\u001b[0mdna_string\u001b[0m \u001b[0;34m/\u001b[0m \u001b[0;36m2\u001b[0m\u001b[0;34m)\u001b[0m\u001b[0;34m\u001b[0m\u001b[0m\n\u001b[0m",
        "\u001b[0;31mTypeError\u001b[0m: unsupported operand type(s) for /: 'str' and 'int'"
       ]
      }
     ],
     "prompt_number": 10
    },
    {
     "cell_type": "markdown",
     "metadata": {},
     "source": [
      "You can see that in this error message, Python is complaining that the variable was of the wrong *type* to do division.\n",
      "\n",
      "You can see the type of a variable yourself, using Python's built-in `type()` function."
     ]
    },
    {
     "cell_type": "code",
     "collapsed": false,
     "input": [
      "x = 5\n",
      "print type(x)"
     ],
     "language": "python",
     "metadata": {},
     "outputs": [
      {
       "output_type": "stream",
       "stream": "stdout",
       "text": [
        "<type 'int'>\n"
       ]
      }
     ],
     "prompt_number": 11
    },
    {
     "cell_type": "markdown",
     "metadata": {},
     "source": [
      "This means that x is an integer. \n",
      "\n",
      "Numbers can also be \"floating point\" numbers, which means they have a decimal part:"
     ]
    },
    {
     "cell_type": "code",
     "collapsed": false,
     "input": [
      "x = 5.5\n",
      "print type(x)"
     ],
     "language": "python",
     "metadata": {},
     "outputs": [
      {
       "output_type": "stream",
       "stream": "stdout",
       "text": [
        "<type 'float'>\n"
       ]
      }
     ],
     "prompt_number": 12
    },
    {
     "cell_type": "markdown",
     "metadata": {},
     "source": [
      "And of course, our data can be strings:"
     ]
    },
    {
     "cell_type": "code",
     "collapsed": false,
     "input": [
      "print type(dna_string)"
     ],
     "language": "python",
     "metadata": {},
     "outputs": [
      {
       "output_type": "stream",
       "stream": "stdout",
       "text": [
        "<type 'str'>\n"
       ]
      }
     ],
     "prompt_number": 13
    },
    {
     "cell_type": "markdown",
     "metadata": {},
     "source": [
      "To solve the Hamming distance problem, we can see we're going to need to deal with strings, since that's the input data. We can also see we're going to need numerical variables, since the output we want from our program is the number of positions which differ."
     ]
    },
    {
     "cell_type": "markdown",
     "metadata": {},
     "source": [
      "A bit of terminology: *strings* are made of single-letter *characters*. For instance, the string \"3 dogs!\" is made of the characters '3', ' ', 'd', 'o', 'g', 's', and '!'. Notice that the space and the punctuation count as characters too.\n",
      "\n",
      "Characters, like strings, should always be enclosed in quotes to distinguish them from variable names and from Python's special keywords. \n",
      "\n",
      "Python considers characters to be just single-letter strings, so it gives them type 'str':"
     ]
    },
    {
     "cell_type": "code",
     "collapsed": false,
     "input": [
      "char = 'C'\n",
      "print type(char)"
     ],
     "language": "python",
     "metadata": {},
     "outputs": [
      {
       "output_type": "stream",
       "stream": "stdout",
       "text": [
        "<type 'str'>\n"
       ]
      }
     ],
     "prompt_number": 14
    },
    {
     "cell_type": "heading",
     "level": 2,
     "metadata": {},
     "source": [
      "Defining a function"
     ]
    },
    {
     "cell_type": "markdown",
     "metadata": {},
     "source": [
      "Functions are reusable pieces of a program. Let's look at some examples."
     ]
    },
    {
     "cell_type": "markdown",
     "metadata": {},
     "source": [
      "We'll start by defining a function `celsius_to_kelvin` that converts temperatures from degrees Celsius to Kelvin:"
     ]
    },
    {
     "cell_type": "code",
     "collapsed": false,
     "input": [
      "def celsius_to_kelvin(celsius_temp):\n",
      "    kelvin_temp = celsius_temp + 273.15\n",
      "    return kelvin_temp"
     ],
     "language": "python",
     "metadata": {},
     "outputs": [],
     "prompt_number": 15
    },
    {
     "cell_type": "markdown",
     "metadata": {},
     "source": [
      "The definition opens with the word `def`,\n",
      "which is followed by the name of the function\n",
      "and a parenthesized list of parameter names.\n",
      "The [body](../../gloss.html#function-body) of the function&mdash;the\n",
      "statements that are executed when it runs&mdash;is indented below the definition line,\n",
      "typically by four spaces.\n",
      "\n",
      "When we call the function,\n",
      "the values we pass to it are assigned to those variables\n",
      "so that we can use them inside the function.\n",
      "Inside the function,\n",
      "we use a [return statement](../../gloss.html#return-statement) to send a result back to whoever asked for it. \n",
      "\n",
      "Let's try running our function.\n",
      "Calling our own function is no different from calling any other function:"
     ]
    },
    {
     "cell_type": "code",
     "collapsed": false,
     "input": [
      "print 'freezing point of water:', celsius_to_kelvin(0)\n",
      "print 'boiling point of water:', celsius_to_kelvin(100)"
     ],
     "language": "python",
     "metadata": {},
     "outputs": [
      {
       "output_type": "stream",
       "stream": "stdout",
       "text": [
        "freezing point of water: 273.15\n",
        "boiling point of water: 373.15\n"
       ]
      }
     ],
     "prompt_number": 16
    },
    {
     "cell_type": "markdown",
     "metadata": {},
     "source": [
      "Functions can take more than one argument. For instance, here's a function which calculates the difference between two temperatures:"
     ]
    },
    {
     "cell_type": "code",
     "collapsed": false,
     "input": [
      "def temperature_difference(temp1, temp2):\n",
      "    difference = temp1 - temp2\n",
      "    return difference"
     ],
     "language": "python",
     "metadata": {},
     "outputs": [],
     "prompt_number": 17
    },
    {
     "cell_type": "markdown",
     "metadata": {},
     "source": [
      "When we run this function, the values we give it are assigned (in order) to `temp1` and `temp2`, and then the body of the function is executed, and the value returned."
     ]
    },
    {
     "cell_type": "code",
     "collapsed": false,
     "input": [
      "print temperature_difference(21,12)"
     ],
     "language": "python",
     "metadata": {},
     "outputs": [
      {
       "output_type": "stream",
       "stream": "stdout",
       "text": [
        "9\n"
       ]
      }
     ],
     "prompt_number": 18
    },
    {
     "cell_type": "code",
     "collapsed": false,
     "input": [
      "print temperature_difference(12,21)"
     ],
     "language": "python",
     "metadata": {},
     "outputs": [
      {
       "output_type": "stream",
       "stream": "stdout",
       "text": [
        "-9\n"
       ]
      }
     ],
     "prompt_number": 19
    },
    {
     "cell_type": "markdown",
     "metadata": {},
     "source": [
      "A function doesn't have to have a return statement. For instance we might want to write a function that does something directly, like print to the screen. It doesn't need to return anything, so there's no need for a return statement."
     ]
    },
    {
     "cell_type": "code",
     "collapsed": false,
     "input": [
      "def write_announcement(winner):\n",
      "    print \"We are glad to announce that\",winner,\"has won the contest!\"\n",
      "    print \"Please congratulate\",winner,\"!\""
     ],
     "language": "python",
     "metadata": {},
     "outputs": [],
     "prompt_number": 20
    },
    {
     "cell_type": "code",
     "collapsed": false,
     "input": [
      "write_announcement(\"Clare\")"
     ],
     "language": "python",
     "metadata": {},
     "outputs": [
      {
       "output_type": "stream",
       "stream": "stdout",
       "text": [
        "We are glad to announce that Clare has won the contest!\n",
        "Please congratulate Clare !\n"
       ]
      }
     ],
     "prompt_number": 21
    },
    {
     "cell_type": "markdown",
     "metadata": {},
     "source": [
      "Because this function has no `return` statement, it will actually return the special value `None`. This is not a string but a special type that tells Python that the variable has no value."
     ]
    },
    {
     "cell_type": "code",
     "collapsed": false,
     "input": [
      "x = write_announcement(\"Andrew\")\n",
      "print x"
     ],
     "language": "python",
     "metadata": {},
     "outputs": [
      {
       "output_type": "stream",
       "stream": "stdout",
       "text": [
        "We are glad to announce that Andrew has won the contest!\n",
        "Please congratulate Andrew !\n",
        "None\n"
       ]
      }
     ],
     "prompt_number": 22
    },
    {
     "cell_type": "markdown",
     "metadata": {},
     "source": [
      "####Challenge\n",
      "\n",
      "Define a function, and name it `double`. Write the function so that it takes in a single number as a parameter, and returns double that number. Once you've defined the function, some example output should look like this:\n",
      "\n",
      "~~~python\n",
      "print double(3)\n",
      "6\n",
      "print double(532)\n",
      "1064\n",
      "~~~"
     ]
    },
    {
     "cell_type": "heading",
     "level": 2,
     "metadata": {},
     "source": [
      "Conditionals: making choices"
     ]
    },
    {
     "cell_type": "markdown",
     "metadata": {},
     "source": [
      "We want to be able to write programs that do different things depending on what data they are given.\n",
      "\n",
      "For instance, to be able to calculate the Hamming distance, we need to do something different depending on whether each letter does or does not match the corresponding letter in the other string."
     ]
    },
    {
     "cell_type": "markdown",
     "metadata": {},
     "source": [
      "The tool Python gives us for doing this is called a conditional statement, and looks like this:"
     ]
    },
    {
     "cell_type": "code",
     "collapsed": false,
     "input": [
      "num = 37\n",
      "if num > 100:\n",
      "    print 'greater'\n",
      "else:\n",
      "    print 'not greater'\n",
      "print 'done'"
     ],
     "language": "python",
     "metadata": {},
     "outputs": [
      {
       "output_type": "stream",
       "stream": "stdout",
       "text": [
        "not greater\n",
        "done\n"
       ]
      }
     ],
     "prompt_number": 23
    },
    {
     "cell_type": "markdown",
     "metadata": {},
     "source": [
      "The second line of this code uses the keyword `if` to tell Python that we want to make a choice.\n",
      "If the test that follows it is true,\n",
      "the body of the `if`\n",
      "(i.e., the lines indented underneath it) are executed.\n",
      "If the test is false,\n",
      "the body of the `else` is executed instead.\n",
      "Only one or the other is ever executed:"
     ]
    },
    {
     "cell_type": "markdown",
     "metadata": {},
     "source": [
      "<img src=\"files/img/python-flowchart-conditional.svg\" alt=\"Executing a Conditional\" />"
     ]
    },
    {
     "cell_type": "markdown",
     "metadata": {},
     "source": [
      "Conditional statements don't have to include an `else`.\n",
      "If there isn't one,\n",
      "Python simply does nothing if the test is false:"
     ]
    },
    {
     "cell_type": "code",
     "collapsed": false,
     "input": [
      "num = 53\n",
      "print 'before conditional...'\n",
      "if num > 100:\n",
      "    print '53 is greater than 100'\n",
      "print '...after conditional'"
     ],
     "language": "python",
     "metadata": {},
     "outputs": [
      {
       "output_type": "stream",
       "stream": "stdout",
       "text": [
        "before conditional...\n",
        "...after conditional\n"
       ]
      }
     ],
     "prompt_number": 24
    },
    {
     "cell_type": "markdown",
     "metadata": {},
     "source": [
      "We can also chain several tests together using `elif`,\n",
      "which is short for \"else if\".\n",
      "This makes it simple to write a function that returns the sign of a number:"
     ]
    },
    {
     "cell_type": "code",
     "collapsed": false,
     "input": [
      "def sign(num):\n",
      "    if num > 0:\n",
      "        return 1\n",
      "    elif num == 0:\n",
      "        return 0\n",
      "    else:\n",
      "        return -1\n",
      "\n",
      "print \"sign of -3 is\", sign(-3)"
     ],
     "language": "python",
     "metadata": {},
     "outputs": [
      {
       "output_type": "stream",
       "stream": "stdout",
       "text": [
        "sign of -3 is -1\n"
       ]
      }
     ],
     "prompt_number": 25
    },
    {
     "cell_type": "markdown",
     "metadata": {},
     "source": [
      "One important thing to notice in the code above is that we use a double equals sign `==` to test for equality rather than a single equals sign,\n",
      "because the latter is used to mean assignment. So\n",
      "\n",
      "    num = 5\n",
      "\n",
      "changes `num` to be equal to `5`, while\n",
      "\n",
      "    num == 5\n",
      "\n",
      "doesn't change `num` at all, but returns `True` or `False` depending on whether `num` is equal to `5`.\n",
      "\n",
      "The operator for \"is not equal\" is also not obvious: it's `!=`, like this:"
     ]
    },
    {
     "cell_type": "code",
     "collapsed": false,
     "input": [
      "num = 5\n",
      "if num != 37:\n",
      "    print \"The number is not 37\""
     ],
     "language": "python",
     "metadata": {},
     "outputs": [
      {
       "output_type": "stream",
       "stream": "stdout",
       "text": [
        "The number is not 37\n"
       ]
      }
     ],
     "prompt_number": 26
    },
    {
     "cell_type": "markdown",
     "metadata": {},
     "source": [
      "We can also combine tests using `and` and `or`.\n",
      "`and` is only true if both parts are true:"
     ]
    },
    {
     "cell_type": "code",
     "collapsed": false,
     "input": [
      "if (1 > 0) and (-1 > 0):\n",
      "    print 'both parts are true'\n",
      "else:\n",
      "    print 'one part is not true'"
     ],
     "language": "python",
     "metadata": {},
     "outputs": [
      {
       "output_type": "stream",
       "stream": "stdout",
       "text": [
        "one part is not true\n"
       ]
      }
     ],
     "prompt_number": 27
    },
    {
     "cell_type": "markdown",
     "metadata": {},
     "source": [
      "while `or` is true if either part is true:"
     ]
    },
    {
     "cell_type": "code",
     "collapsed": false,
     "input": [
      "if (1 < 0) or ('left' < 'right'):\n",
      "    print 'at least one test is true'"
     ],
     "language": "python",
     "metadata": {},
     "outputs": [
      {
       "output_type": "stream",
       "stream": "stdout",
       "text": [
        "at least one test is true\n"
       ]
      }
     ],
     "prompt_number": 28
    },
    {
     "cell_type": "markdown",
     "metadata": {},
     "source": [
      "In this case,\n",
      "\"either\" means \"either or both\", not \"either one or the other but not both\"."
     ]
    },
    {
     "cell_type": "heading",
     "level": 4,
     "metadata": {},
     "source": [
      "True and False"
     ]
    },
    {
     "cell_type": "markdown",
     "metadata": {},
     "source": [
      "Python has special values called `True` and `False`, which are what is returned if we evaluate a comparison. For our first example, we wrote an if statement which looked like\n",
      "\n",
      "~~~python\n",
      "num = 37\n",
      "if num > 100:\n",
      "    ...\n",
      "~~~"
     ]
    },
    {
     "cell_type": "markdown",
     "metadata": {},
     "source": [
      "Of course, `num` was not more than `100` in this case. What if we look directly at the result of that comparison?"
     ]
    },
    {
     "cell_type": "code",
     "collapsed": false,
     "input": [
      "num = 37\n",
      "print (num > 100)"
     ],
     "language": "python",
     "metadata": {},
     "outputs": [
      {
       "output_type": "stream",
       "stream": "stdout",
       "text": [
        "False\n"
       ]
      }
     ],
     "prompt_number": 29
    },
    {
     "cell_type": "markdown",
     "metadata": {},
     "source": [
      "`False` is not a string - it's a special Python value that literally means false, or not true. There's also `True`:"
     ]
    },
    {
     "cell_type": "code",
     "collapsed": false,
     "input": [
      "num = 121\n",
      "print (num > 100)"
     ],
     "language": "python",
     "metadata": {},
     "outputs": [
      {
       "output_type": "stream",
       "stream": "stdout",
       "text": [
        "True\n"
       ]
      }
     ],
     "prompt_number": 30
    },
    {
     "cell_type": "markdown",
     "metadata": {},
     "source": [
      "#### Challenge\n",
      "\n",
      "1.  To calculate the Hamming distance, we will need to be able to test if characters are the same. In fact the simplest Hamming distance calculation is between just two characters, for instance:\n",
      "\n",
      "        G\n",
      "        G\n",
      "\n",
      "    Here the characters are the same, so the Hamming distance is zero.\n",
      "\n",
      "        G\n",
      "        T\n",
      "\n",
      "    Here the characters are different, so the Hamming distance is 1.\n",
      "\n",
      "    Define a function called `character_distance` which takes two parameters and returns 1 if the two characters are different, and 0 if they are the same. Some example output should look like:\n",
      "\n",
      "    ~~~python\n",
      "    print character_distance(\"G\", \"G\")\n",
      "    0\n",
      "\n",
      "    print character_distance(\"A\", \"T\")\n",
      "    1\n",
      "    ~~~"
     ]
    },
    {
     "cell_type": "heading",
     "level": 2,
     "metadata": {},
     "source": [
      "Calculating many things: for loops"
     ]
    },
    {
     "cell_type": "markdown",
     "metadata": {},
     "source": [
      "A big advantage of writing a program is that we only need to write it once, but can run it again and again, saving effort."
     ]
    },
    {
     "cell_type": "markdown",
     "metadata": {},
     "source": [
      "If we need to run an algorithm thousands or millions of times, we don't want to have to call it each time. So, we need to be able to tell the computer to repeat things."
     ]
    },
    {
     "cell_type": "markdown",
     "metadata": {},
     "source": [
      "Suppose we want to print each character in the sequence \"GACT\" on a line of its own. We can specify a character of a string using square brackets `[]`. If the variable that holds the string is called `s`, then `s[0]` is the first character, `s[1]` is the second character, and so on. This is called string indexing.\n",
      "\n",
      "So, one way to print out each character of the string would be to use four `print` statements:"
     ]
    },
    {
     "cell_type": "code",
     "collapsed": false,
     "input": [
      "def print_characters(s):\n",
      "    print s[0]\n",
      "    print s[1]\n",
      "    print s[2]\n",
      "    print s[3]"
     ],
     "language": "python",
     "metadata": {},
     "outputs": [],
     "prompt_number": 31
    },
    {
     "cell_type": "code",
     "collapsed": false,
     "input": [
      "print_characters('GACT')"
     ],
     "language": "python",
     "metadata": {},
     "outputs": [
      {
       "output_type": "stream",
       "stream": "stdout",
       "text": [
        "G\n",
        "A\n",
        "C\n",
        "T\n"
       ]
      }
     ],
     "prompt_number": 32
    },
    {
     "cell_type": "markdown",
     "metadata": {},
     "source": [
      "but that's a bad approach for two reasons:\n",
      "\n",
      "1.  It doesn't scale:\n",
      "    if we want to print the characters in a string that's hundreds of letters long,\n",
      "    we'd be better off just typing them in.\n",
      "\n",
      "1.  It's fragile:\n",
      "    if we give it a longer string,\n",
      "    it only prints part of the data,\n",
      "    and if we give it a shorter one,\n",
      "    it produces an error because we're asking for characters that don't exist."
     ]
    },
    {
     "cell_type": "code",
     "collapsed": false,
     "input": [
      "print_characters(\"CAT\")"
     ],
     "language": "python",
     "metadata": {},
     "outputs": [
      {
       "output_type": "stream",
       "stream": "stdout",
       "text": [
        "C\n",
        "A\n",
        "T\n"
       ]
      },
      {
       "ename": "IndexError",
       "evalue": "string index out of range",
       "output_type": "pyerr",
       "traceback": [
        "\u001b[0;31m---------------------------------------------------------------------------\u001b[0m\n\u001b[0;31mIndexError\u001b[0m                                Traceback (most recent call last)",
        "\u001b[0;32m<ipython-input-33-35bac565a5ec>\u001b[0m in \u001b[0;36m<module>\u001b[0;34m()\u001b[0m\n\u001b[0;32m----> 1\u001b[0;31m \u001b[0mprint_characters\u001b[0m\u001b[0;34m(\u001b[0m\u001b[0;34m\"CAT\"\u001b[0m\u001b[0;34m)\u001b[0m\u001b[0;34m\u001b[0m\u001b[0m\n\u001b[0m",
        "\u001b[0;32m<ipython-input-31-d4c50380fc24>\u001b[0m in \u001b[0;36mprint_characters\u001b[0;34m(s)\u001b[0m\n\u001b[1;32m      3\u001b[0m     \u001b[0;32mprint\u001b[0m \u001b[0ms\u001b[0m\u001b[0;34m[\u001b[0m\u001b[0;36m1\u001b[0m\u001b[0;34m]\u001b[0m\u001b[0;34m\u001b[0m\u001b[0m\n\u001b[1;32m      4\u001b[0m     \u001b[0;32mprint\u001b[0m \u001b[0ms\u001b[0m\u001b[0;34m[\u001b[0m\u001b[0;36m2\u001b[0m\u001b[0;34m]\u001b[0m\u001b[0;34m\u001b[0m\u001b[0m\n\u001b[0;32m----> 5\u001b[0;31m     \u001b[0;32mprint\u001b[0m \u001b[0ms\u001b[0m\u001b[0;34m[\u001b[0m\u001b[0;36m3\u001b[0m\u001b[0;34m]\u001b[0m\u001b[0;34m\u001b[0m\u001b[0m\n\u001b[0m",
        "\u001b[0;31mIndexError\u001b[0m: string index out of range"
       ]
      }
     ],
     "prompt_number": 33
    },
    {
     "cell_type": "markdown",
     "metadata": {},
     "source": [
      "Here's a better approach:"
     ]
    },
    {
     "cell_type": "code",
     "collapsed": false,
     "input": [
      "def print_characters(s):\n",
      "    for char in s:\n",
      "        print char"
     ],
     "language": "python",
     "metadata": {},
     "outputs": [],
     "prompt_number": 34
    },
    {
     "cell_type": "code",
     "collapsed": false,
     "input": [
      "print_characters('GACT')"
     ],
     "language": "python",
     "metadata": {},
     "outputs": [
      {
       "output_type": "stream",
       "stream": "stdout",
       "text": [
        "G\n",
        "A\n",
        "C\n",
        "T\n"
       ]
      }
     ],
     "prompt_number": 35
    },
    {
     "cell_type": "markdown",
     "metadata": {},
     "source": [
      "This is shorter---certainly shorter than something that prints every character in a hundred-letter string---and\n",
      "more robust as well:"
     ]
    },
    {
     "cell_type": "code",
     "collapsed": true,
     "input": [
      "print_characters('oxygen')"
     ],
     "language": "python",
     "metadata": {},
     "outputs": [
      {
       "output_type": "stream",
       "stream": "stdout",
       "text": [
        "o\n",
        "x\n",
        "y\n",
        "g\n",
        "e\n",
        "n\n"
       ]
      }
     ],
     "prompt_number": 36
    },
    {
     "cell_type": "markdown",
     "metadata": {},
     "source": [
      "You might be able to see how this ability to do something with each character in turn, no matter how long the string, will be useful in solving our Hamming distance problem!"
     ]
    },
    {
     "cell_type": "markdown",
     "metadata": {},
     "source": [
      "The improved version of `print_characters` uses a [for loop](../../gloss.html#for-loop)\n",
      "to repeat an operation---in this case, printing---once for each thing in a collection.\n",
      "The general form of a loop is:\n",
      "\n",
      "<pre>\n",
      "<strong>for</strong> <em>variable</em> <strong>in</strong> <em>collection</em><strong>:</strong>\n",
      "    <em>do things with variable</em>\n",
      "</pre>"
     ]
    },
    {
     "cell_type": "markdown",
     "metadata": {},
     "source": [
      "We can call the [loop variable](../../gloss.html#loop-variable) anything we like,\n",
      "but there must be a colon at the end of the line starting the loop,\n",
      "and we must indent the body of the loop."
     ]
    },
    {
     "cell_type": "markdown",
     "metadata": {},
     "source": [
      "Here's another loop that repeatedly updates a variable:"
     ]
    },
    {
     "cell_type": "code",
     "collapsed": true,
     "input": [
      "length = 0\n",
      "for vowel in \"aeiou\":\n",
      "    length = length + 1\n",
      "print \"There are\", length, \"vowels\""
     ],
     "language": "python",
     "metadata": {},
     "outputs": [
      {
       "output_type": "stream",
       "stream": "stdout",
       "text": [
        "There are 5 vowels\n"
       ]
      }
     ],
     "prompt_number": 37
    },
    {
     "cell_type": "markdown",
     "metadata": {},
     "source": [
      "It's worth tracing the execution of this little program step by step.\n",
      "Since there are five characters in `'aeiou'`,\n",
      "the statement on line 3 will be executed five times.\n",
      "The first time around,\n",
      "`length` is zero (the value assigned to it on line 1)\n",
      "and `vowel` is `'a'`.\n",
      "The statement adds 1 to the old value of `length`,\n",
      "producing 1,\n",
      "and updates `length` to refer to that new value.\n",
      "The next time around,\n",
      "`vowel` is `'e'` and `length` is 1,\n",
      "so `length` is updated to be 2.\n",
      "After three more updates,\n",
      "`length` is 5;\n",
      "since there is nothing left in `'aeiou'` for Python to process,\n",
      "the loop finishes\n",
      "and the `print` statement on line 4 tells us our final answer.\n",
      "\n",
      "Note that a loop variable is just a variable that's being used to record progress in a loop.\n",
      "It still exists after the loop is over,\n",
      "and we can re-use variables previously defined as loop variables as well:"
     ]
    },
    {
     "cell_type": "code",
     "collapsed": false,
     "input": [
      "letter = 'z'\n",
      "for letter in 'abc':\n",
      "    print letter\n",
      "print 'after the loop, letter is', letter"
     ],
     "language": "python",
     "metadata": {},
     "outputs": [
      {
       "output_type": "stream",
       "stream": "stdout",
       "text": [
        "a\n",
        "b\n",
        "c\n",
        "after the loop, letter is c\n"
       ]
      }
     ],
     "prompt_number": 38
    },
    {
     "cell_type": "markdown",
     "metadata": {},
     "source": [
      "Note also that finding the length of a string is such a common operation\n",
      "that Python actually has a built-in function to do it called `len`:"
     ]
    },
    {
     "cell_type": "code",
     "collapsed": false,
     "input": [
      "print len(\"aeiou\")"
     ],
     "language": "python",
     "metadata": {},
     "outputs": [
      {
       "output_type": "stream",
       "stream": "stdout",
       "text": [
        "5\n"
       ]
      }
     ],
     "prompt_number": 39
    },
    {
     "cell_type": "markdown",
     "metadata": {},
     "source": [
      "`len` is much faster than any function we could write ourselves,\n",
      "and much easier to read than a two-line loop;\n",
      "it will also give us the length of many other things that we haven't met yet,\n",
      "so we should always use it when we can."
     ]
    },
    {
     "cell_type": "markdown",
     "metadata": {},
     "source": [
      "#### Challenge (hard)\n",
      "\n",
      "Loops can also be nested: if you put a `for` loop inside a `for` loop, every pass through the outer loop will do an entire run-through of all values of the inner loop.\n",
      "\n",
      "Using nested loops, write a Python program to write out every two-letter combination of A,C,G and T. The output should look like:\n",
      "\n",
      "    A A\n",
      "    A C\n",
      "    A G\n",
      "    A T\n",
      "    C A\n",
      "    C C\n",
      "    C G\n",
      "    C T\n",
      "    G A\n",
      "    G C\n",
      "    G G\n",
      "    G T\n",
      "    T A\n",
      "    T C\n",
      "    T G\n",
      "    T T\n"
     ]
    },
    {
     "cell_type": "markdown",
     "metadata": {},
     "source": [
      "Let's think about `for` loops for solving our Hamming distance problem. We saw above how to loop over the characters in a string:"
     ]
    },
    {
     "cell_type": "code",
     "collapsed": false,
     "input": [
      "def print_characters(my_string):\n",
      "    for char in my_string:\n",
      "        print char\n",
      "\n",
      "print_characters(\"GACT\")"
     ],
     "language": "python",
     "metadata": {},
     "outputs": [
      {
       "output_type": "stream",
       "stream": "stdout",
       "text": [
        "G\n",
        "A\n",
        "C\n",
        "T\n"
       ]
      }
     ],
     "prompt_number": 40
    },
    {
     "cell_type": "markdown",
     "metadata": {},
     "source": [
      "For Hamming distance, we need to compare each character in one string to the corresponding character in the other. We might think about applying a loop go through each character in turn. Given\n",
      "\n",
      "    GATTACA\n",
      "    GACTATA\n",
      "\n",
      "we could use a loop to compare `G` to `G`, then `A` to `A`, then `C` to `T`, and so on.\n",
      "\n",
      "But to do this we need to be able to loop over both strings at once. How can we do this? To understand one way to do it, we'll first learn about lists."
     ]
    },
    {
     "cell_type": "heading",
     "level": 2,
     "metadata": {},
     "source": [
      "Lists and loops"
     ]
    },
    {
     "cell_type": "markdown",
     "metadata": {
      "cell_tags": []
     },
     "source": [
      "Just as a `for` loop is a way to do operations many times,\n",
      "a list is a way to store many values.\n",
      "We create a list by putting values inside square brackets:"
     ]
    },
    {
     "cell_type": "code",
     "collapsed": false,
     "input": [
      "odds = [1, 3, 5, 7, 9, 11]\n",
      "print 'odd numbers are:', odds"
     ],
     "language": "python",
     "metadata": {
      "cell_tags": []
     },
     "outputs": [
      {
       "output_type": "stream",
       "stream": "stdout",
       "text": [
        "odd numbers are: [1, 3, 5, 7, 9, 11]\n"
       ]
      }
     ],
     "prompt_number": 41
    },
    {
     "cell_type": "markdown",
     "metadata": {
      "cell_tags": []
     },
     "source": [
      "Just like characters in a string, we select individual elements from lists by indexing them:"
     ]
    },
    {
     "cell_type": "code",
     "collapsed": false,
     "input": [
      "print 'first and last:', odds[0], odds[-1]"
     ],
     "language": "python",
     "metadata": {
      "cell_tags": []
     },
     "outputs": [
      {
       "output_type": "stream",
       "stream": "stdout",
       "text": [
        "first and last: 1 11\n"
       ]
      }
     ],
     "prompt_number": 42
    },
    {
     "cell_type": "code",
     "collapsed": false,
     "input": [
      "print 'first, third and fourth:', odds[0], odds[2], odds[3]"
     ],
     "language": "python",
     "metadata": {},
     "outputs": [
      {
       "output_type": "stream",
       "stream": "stdout",
       "text": [
        "first, third and fourth: 1 5 7\n"
       ]
      }
     ],
     "prompt_number": 43
    },
    {
     "cell_type": "markdown",
     "metadata": {
      "cell_tags": []
     },
     "source": [
      "and if we loop over a list,\n",
      "the loop variable is assigned elements one at a time:"
     ]
    },
    {
     "cell_type": "code",
     "collapsed": false,
     "input": [
      "for number in odds:\n",
      "    print number"
     ],
     "language": "python",
     "metadata": {
      "cell_tags": []
     },
     "outputs": [
      {
       "output_type": "stream",
       "stream": "stdout",
       "text": [
        "1\n",
        "3\n",
        "5\n",
        "7\n",
        "9\n",
        "11\n"
       ]
      }
     ],
     "prompt_number": 44
    },
    {
     "cell_type": "markdown",
     "metadata": {
      "cell_tags": []
     },
     "source": [
      "There is one important difference between lists and strings:\n",
      "we can change the values in a list,\n",
      "but we cannot change the characters in a string.\n",
      "For example:"
     ]
    },
    {
     "cell_type": "code",
     "collapsed": false,
     "input": [
      "names = ['Newton', 'Darwing', 'Turing'] # typo in Darwin's name\n",
      "print 'names is originally:', names\n",
      "names[1] = 'Darwin' # correct the name\n",
      "print 'final value of names:', names"
     ],
     "language": "python",
     "metadata": {
      "cell_tags": []
     },
     "outputs": [
      {
       "output_type": "stream",
       "stream": "stdout",
       "text": [
        "names is originally: ['Newton', 'Darwing', 'Turing']\n",
        "final value of names: ['Newton', 'Darwin', 'Turing']\n"
       ]
      }
     ],
     "prompt_number": 45
    },
    {
     "cell_type": "markdown",
     "metadata": {
      "cell_tags": []
     },
     "source": [
      "works, but this doesn't:"
     ]
    },
    {
     "cell_type": "code",
     "collapsed": false,
     "input": [
      "name = 'Bell'\n",
      "name[0] = 'b'"
     ],
     "language": "python",
     "metadata": {
      "cell_tags": []
     },
     "outputs": [
      {
       "ename": "TypeError",
       "evalue": "'str' object does not support item assignment",
       "output_type": "pyerr",
       "traceback": [
        "\u001b[0;31m---------------------------------------------------------------------------\u001b[0m\n\u001b[0;31mTypeError\u001b[0m                                 Traceback (most recent call last)",
        "\u001b[0;32m<ipython-input-46-220df48aeb2e>\u001b[0m in \u001b[0;36m<module>\u001b[0;34m()\u001b[0m\n\u001b[1;32m      1\u001b[0m \u001b[0mname\u001b[0m \u001b[0;34m=\u001b[0m \u001b[0;34m'Bell'\u001b[0m\u001b[0;34m\u001b[0m\u001b[0m\n\u001b[0;32m----> 2\u001b[0;31m \u001b[0mname\u001b[0m\u001b[0;34m[\u001b[0m\u001b[0;36m0\u001b[0m\u001b[0;34m]\u001b[0m \u001b[0;34m=\u001b[0m \u001b[0;34m'b'\u001b[0m\u001b[0;34m\u001b[0m\u001b[0m\n\u001b[0m",
        "\u001b[0;31mTypeError\u001b[0m: 'str' object does not support item assignment"
       ]
      }
     ],
     "prompt_number": 46
    },
    {
     "cell_type": "markdown",
     "metadata": {},
     "source": [
      "Python has a useful built-in function called `range` that creates a list of the first $N$ numbers starting from zero."
     ]
    },
    {
     "cell_type": "code",
     "collapsed": false,
     "input": [
      "print range(3)"
     ],
     "language": "python",
     "metadata": {},
     "outputs": [
      {
       "output_type": "stream",
       "stream": "stdout",
       "text": [
        "[0, 1, 2]\n"
       ]
      }
     ],
     "prompt_number": 47
    },
    {
     "cell_type": "code",
     "collapsed": false,
     "input": [
      "print range(10)"
     ],
     "language": "python",
     "metadata": {},
     "outputs": [
      {
       "output_type": "stream",
       "stream": "stdout",
       "text": [
        "[0, 1, 2, 3, 4, 5, 6, 7, 8, 9]\n"
       ]
      }
     ],
     "prompt_number": 48
    },
    {
     "cell_type": "markdown",
     "metadata": {},
     "source": [
      "This is particularly useful with `for` loops! For instance to write something out 5 times:"
     ]
    },
    {
     "cell_type": "code",
     "collapsed": false,
     "input": [
      "for i in range(5):\n",
      "    print \"Hello!\""
     ],
     "language": "python",
     "metadata": {},
     "outputs": [
      {
       "output_type": "stream",
       "stream": "stdout",
       "text": [
        "Hello!\n",
        "Hello!\n",
        "Hello!\n",
        "Hello!\n",
        "Hello!\n"
       ]
      }
     ],
     "prompt_number": 49
    },
    {
     "cell_type": "markdown",
     "metadata": {},
     "source": [
      "#### Challenges\n",
      "\n",
      "1.  Using `range`, write a function that prints the $N$ natural numbers, i.e. counting from $1$:\n",
      "    \n",
      "    ~~~python\n",
      "    print_N(3)\n",
      "    1\n",
      "    2\n",
      "    3\n",
      "    ~~~\n",
      "\n",
      "2.  Write a function which takes two strings, and prints out the first characters of both strings on the first line, the second characters of both strings on the second line, and so on. \n",
      "\n",
      "    ~~~python\n",
      "    print_pairs(\"CAT\",\"DOG\")\n",
      "    C D\n",
      "    A O\n",
      "    T G\n",
      "    ~~~\n",
      "    \n",
      "    Hints:\n",
      "    \n",
      "    - remember that you can get the length of a string using the built-in `len()` function\n",
      "    - remember that you can use a character from a string by indexing it, like `s[0]`"
     ]
    },
    {
     "cell_type": "heading",
     "level": 2,
     "metadata": {},
     "source": [
      "Putting it all together: nesting loops and conditionals"
     ]
    },
    {
     "cell_type": "markdown",
     "metadata": {
      "cell_tags": []
     },
     "source": [
      "Another thing to realize is that `if` and `for` statements can be combined with one another \n",
      "just as easily as they can be combined with functions.\n",
      "For example,\n",
      "if we want to sum the positive numbers in a list,\n",
      "we can write this:"
     ]
    },
    {
     "cell_type": "code",
     "collapsed": false,
     "input": [
      "numbers = [-5, 3, 2, -1, 9, 6]\n",
      "total = 0\n",
      "for n in numbers:\n",
      "    if n >= 0:\n",
      "        total = total + n\n",
      "print 'sum of positive values:', total"
     ],
     "language": "python",
     "metadata": {
      "cell_tags": []
     },
     "outputs": [
      {
       "output_type": "stream",
       "stream": "stdout",
       "text": [
        "sum of positive values: 20\n"
       ]
      }
     ],
     "prompt_number": 50
    },
    {
     "cell_type": "markdown",
     "metadata": {
      "cell_tags": []
     },
     "source": [
      "We could equally well calculate the positive and negative sums in a single loop:"
     ]
    },
    {
     "cell_type": "code",
     "collapsed": false,
     "input": [
      "pos_total = 0\n",
      "neg_total = 0\n",
      "for n in numbers:\n",
      "    if n >= 0:\n",
      "        pos_total = pos_total + n\n",
      "    else:\n",
      "        neg_total = neg_total + n\n",
      "print 'negative and positive sums are:', neg_total, pos_total"
     ],
     "language": "python",
     "metadata": {
      "cell_tags": []
     },
     "outputs": [
      {
       "output_type": "stream",
       "stream": "stdout",
       "text": [
        "negative and positive sums are: -6 20\n"
       ]
      }
     ],
     "prompt_number": 51
    },
    {
     "cell_type": "markdown",
     "metadata": {
      "cell_tags": []
     },
     "source": [
      "We can even put one loop inside another:"
     ]
    },
    {
     "cell_type": "code",
     "collapsed": false,
     "input": [
      "for consonant in 'bcd':\n",
      "    for vowel in 'ae':\n",
      "        print consonant + vowel"
     ],
     "language": "python",
     "metadata": {
      "cell_tags": []
     },
     "outputs": [
      {
       "output_type": "stream",
       "stream": "stdout",
       "text": [
        "ba\n",
        "be\n",
        "ca\n",
        "ce\n",
        "da\n",
        "de\n"
       ]
      }
     ],
     "prompt_number": 52
    },
    {
     "cell_type": "markdown",
     "metadata": {
      "cell_tags": []
     },
     "source": [
      "As the diagram below shows,\n",
      "the [inner loop](../../gloss.html#inner-loop) runs from start to finish\n",
      "each time the [outer loop](../../gloss.html#outer-loop) runs once:"
     ]
    },
    {
     "cell_type": "markdown",
     "metadata": {
      "cell_tags": []
     },
     "source": [
      "<img src=\"files/img/python-flowchart-nested-loops.svg\" alt=\"Execution of Nested Loops\" />"
     ]
    },
    {
     "cell_type": "markdown",
     "metadata": {},
     "source": [
      "#### Challenge\n",
      "\n",
      "Write a function to count the number of 'C's and 'G's in a DNA sequence. Some sample output should look like:\n",
      "\n",
      "~~~python\n",
      "print count_CG(\"GATTACA\")\n",
      "2\n",
      "print count_CG(\"ACAAAACAGCGAACACTCGC\")\n",
      "10\n",
      "~~~"
     ]
    },
    {
     "cell_type": "heading",
     "level": 2,
     "metadata": {},
     "source": [
      "Final challenge!"
     ]
    },
    {
     "cell_type": "markdown",
     "metadata": {},
     "source": [
      "\\Write a function which takes in two strings as parameters, and returns the Hamming distance between them. You can assume the input strings are the same length."
     ]
    },
    {
     "cell_type": "markdown",
     "metadata": {},
     "source": [
      "Some sample output should look like this (you can cut and paste these strings to check you get the same answers):\n",
      "\n",
      "~~~python\n",
      "print hamming_distance(\"GATTACA\",\"GACTATA\")\n",
      "2\n",
      "print hamming_distance(\"CAT\",\"DOG\")\n",
      "3\n",
      "print hamming_distance(\"CAT\", \"ACT\")\n",
      "2\n",
      "print hamming_distance(\"GTTCTTGGACGACGAAAAGA\", \"GTTCGTGAGGCCACATCCCG\")\n",
      "13\n",
      "print hamming_distance(\"GTGCTTCCAGTCACGCTGTCTTGGGGTAGC\", \"TCGAGCAGTATCACATTACTAAGGATGTGC\")\n",
      "20\n",
      "print hamming_distance(\"GCGAGCCCAGTCACGCTGTCTTGGGGTAGC\", \"TCGAGCAGTATCACGCTACTAAGGGGGTGC\")\n",
      "12\n",
      "~~~"
     ]
    },
    {
     "cell_type": "markdown",
     "metadata": {},
     "source": [
      "If you can get this working, well done! This is our first bioinformatics algorithm."
     ]
    }
   ],
   "metadata": {}
  }
 ]
}