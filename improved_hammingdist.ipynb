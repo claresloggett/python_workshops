{
 "metadata": {
  "name": "",
  "signature": "sha256:2497f3e1dade72da30e6c168c62414e070aac99949afba75516e56823c26c2d0"
 },
 "nbformat": 3,
 "nbformat_minor": 0,
 "worksheets": [
  {
   "cells": [
    {
     "cell_type": "heading",
     "level": 1,
     "metadata": {},
     "source": [
      "Pythonic python 1: Hamming distance"
     ]
    },
    {
     "cell_type": "markdown",
     "metadata": {},
     "source": [
      "This workshop is designed to introduce Python to bioinformaticians. It follows on from the introductory workshops on Python programming. In particular, we'll build on our solution to the [Hamming distance workshop](hammingdist.html), and use the various language features we learn to improve our code."
     ]
    },
    {
     "cell_type": "heading",
     "level": 2,
     "metadata": {},
     "source": [
      "Getting help"
     ]
    },
    {
     "cell_type": "markdown",
     "metadata": {},
     "source": [
      "If you're using IPython, you can always use the built-in `help()` function or the `?` operator to see documentation on a function or type. For instance, `help(range)` or `?range` will give you documentation on the built-in `range()` function. \n",
      "\n",
      "You can try this while going through the below. If you want to get help on a Python keyword such as `for` or `if`, or on an operator, you'll need to make sure to put quotes around it, like `help(\"for\")` or `help(\"!=\")`."
     ]
    },
    {
     "cell_type": "heading",
     "level": 2,
     "metadata": {},
     "source": [
      "Setup"
     ]
    },
    {
     "cell_type": "markdown",
     "metadata": {},
     "source": [
      "In this workshop, we'll use Python 2. However, we'll use Python 3-style print statements and division operators, which will make our code more sensible, and pretty easy to move to Python 3 in the future. \n",
      "\n",
      "You don't need to worry about the details of this right now, but if you have not done so already, then before running anything else, run the following statement:"
     ]
    },
    {
     "cell_type": "code",
     "collapsed": false,
     "input": [
      "from __future__ import division, print_function"
     ],
     "language": "python",
     "metadata": {},
     "outputs": [],
     "prompt_number": 1
    },
    {
     "cell_type": "heading",
     "level": 2,
     "metadata": {},
     "source": [
      "Hamming distance"
     ]
    },
    {
     "cell_type": "markdown",
     "metadata": {},
     "source": [
      "In this workshop, we'll use our solution to the novice workshop on Hamming Distance as an example. \n",
      "\n",
      "The Hamming distance between two strings is the number of positions at which they have different characters.\n",
      "\n",
      "For instance, compare these strings:\n",
      "\n",
      "    GATTACA\n",
      "    GACTATA\n",
      "\n",
      "They are different at two locations:\n",
      "\n",
      "    GATTACA\n",
      "      |  |\n",
      "    GACTATA\n",
      "\n",
      "So the Hamming distance is 2.\n",
      "\n",
      "Hamming distance is the simplest edit distance algorithm for string alignment. It tells us the edit distance between two strings if we're only allowed to make substitutions - no insertions or deletions.\n",
      "\n",
      "We will consider the Hamming distance to be defined only if the two strings are the same lengths. So the Hamming distance between \"CAT\" and \"SUPERCALIFRAGILISTICEXPIALIDOCIOUS\" is undefined."
     ]
    },
    {
     "cell_type": "heading",
     "level": 2,
     "metadata": {},
     "source": [
      "Hamming distance: initial solution"
     ]
    },
    {
     "cell_type": "markdown",
     "metadata": {},
     "source": [
      "Let's illustrate some basic Python syntax using a solution to the Hamming distance problem. If you've done the introductory workshop, you might have come up with a similar solution yourself. \n",
      "\n",
      "**Exercise:** If you already have some experience with Python and want to test yourself on the basics, try to solve this problem before you continue. Write a function called `hamming_distance` which takes as input two strings, and returns the number of characters which do not match. You may assume the two strings are the same length. You'll be able to use your solution as the basis for the rest of the workshop.\n",
      "\n",
      "For example, your function should give the following results when called:\n",
      "\n",
      "~~~python\n",
      "hamming_distance(\"GATTACA\",\"GACTATA\")\n",
      "2\n",
      "hamming_distance(\"AGCAGACCCACAA\",\"TGCAGCGAAACGA\")\n",
      "6\n",
      "~~~\n",
      "\n",
      "The solution is written below, so free to stop here and try to solve this, and to ask for help if you get stuck. Asking for hints is a much better way to develop your understanding than reading the solution.\n",
      "\n",
      "A couple of hints: you will need to understand strings, loops, and conditionals. You will probably also want to use the built-in Python functions `range()` and `len()`. Remember you can use `help()` to look at the documentation for these built-in functions.\n",
      "\n",
      "**SPOILER ALERT:** If you are new to programming, and would like to do the novice workshop, you might want to do it before looking at the solution below!"
     ]
    },
    {
     "cell_type": "markdown",
     "metadata": {},
     "source": [
      "Here is one possible solution to the Hamming distance problem. The basic plan here is:\n",
      "\n",
      "- check the length of the strings so we know how many characters we need to compare\n",
      "- look at each pair of corresponding characters in turn by looping over the indices\n",
      "- for each pair of characters that are not the same, add 1 to the Hamming distance\n",
      "- return the final count"
     ]
    },
    {
     "cell_type": "code",
     "collapsed": false,
     "input": [
      "# Return the Hamming distance between string1 and string2.\n",
      "# string1 and string2 should be the same length.\n",
      "def hamming_distance(string1, string2): \n",
      "    # Start with a distance of zero, and count up\n",
      "    distance = 0\n",
      "    # Loop over the indices of the string\n",
      "    L = len(string1)\n",
      "    for i in range(L):\n",
      "        # Add 1 to the distance if these two characters are not equal\n",
      "        if string1[i] != string2[i]:\n",
      "            distance += 1\n",
      "    # Return the final count of differences\n",
      "    return distance"
     ],
     "language": "python",
     "metadata": {},
     "outputs": [],
     "prompt_number": 2
    },
    {
     "cell_type": "markdown",
     "metadata": {},
     "source": [
      "We can call this function by passing in two strings as the arguments `string1` and `string2`:"
     ]
    },
    {
     "cell_type": "code",
     "collapsed": false,
     "input": [
      "example_dist = hamming_distance(\"GATTACA\", \"GACTATA\")\n",
      "print(example_dist)"
     ],
     "language": "python",
     "metadata": {},
     "outputs": [
      {
       "output_type": "stream",
       "stream": "stdout",
       "text": [
        "2\n"
       ]
      }
     ],
     "prompt_number": 3
    },
    {
     "cell_type": "markdown",
     "metadata": {},
     "source": [
      "Of course, now that we have a function, we can reuse it on any pair of strings, including ones where the answer is not so obvious."
     ]
    },
    {
     "cell_type": "code",
     "collapsed": false,
     "input": [
      "hamming_distance(\"ACTGTGCAATACCTAAGTGAAAGGGGTGCATAGATCATTCTTTCGTTACCTCGGGTGCTATGA\",\n",
      "                 \"ACTCCTCTGTGTCTAAGTGAAAGGGGTGCTTGCAGGGTAATCCTTCCACCTGATACCGACTCG\")"
     ],
     "language": "python",
     "metadata": {},
     "outputs": [
      {
       "metadata": {},
       "output_type": "pyout",
       "prompt_number": 4,
       "text": [
        "32"
       ]
      }
     ],
     "prompt_number": 4
    },
    {
     "cell_type": "markdown",
     "metadata": {},
     "source": [
      "**Exercise:** To check everything is working properly, write or paste this function into your own Notebook and calculate the Hamming distance between \"AGCAGACCCACAA\" and \"TGCAGCGAAACGA\"."
     ]
    },
    {
     "cell_type": "markdown",
     "metadata": {},
     "source": [
      "This Hamming distance solution works, but there's definitely room for improvement. As we go through some code features and tips and tricks of Python, we'll try to use them to improve this Hamming distance solution."
     ]
    },
    {
     "cell_type": "heading",
     "level": 2,
     "metadata": {},
     "source": [
      "More tricks with strings"
     ]
    },
    {
     "cell_type": "markdown",
     "metadata": {},
     "source": [
      "The first thing we're going to try to fix is documentation, and for this we need to learn more about strings. We have comments in our function, but Python has better documentation methods.\n",
      "\n",
      "We'll also print out strings to test our code as we learn, so it's worth taking some time at the start to learn more about using them."
     ]
    },
    {
     "cell_type": "heading",
     "level": 3,
     "metadata": {},
     "source": [
      "String formatting"
     ]
    },
    {
     "cell_type": "markdown",
     "metadata": {},
     "source": [
      "Say we want to print out some debugging information to see what our program is doing. For instance, imagine we're trying to talk about these variables:"
     ]
    },
    {
     "cell_type": "code",
     "collapsed": false,
     "input": [
      "hamming_distance(\"AGCAGACCCACAA\",\"TGCAGCGAAACGA\")"
     ],
     "language": "python",
     "metadata": {},
     "outputs": [
      {
       "metadata": {},
       "output_type": "pyout",
       "prompt_number": 5,
       "text": [
        "6"
       ]
      }
     ],
     "prompt_number": 5
    },
    {
     "cell_type": "code",
     "collapsed": false,
     "input": [
      "string1 = \"GATTACA\"\n",
      "string2 = \"GACTATA\"\n",
      "L = len(string1)"
     ],
     "language": "python",
     "metadata": {},
     "outputs": [],
     "prompt_number": 6
    },
    {
     "cell_type": "markdown",
     "metadata": {},
     "source": [
      "You may have already seen string concatenation, where we add strings together, and the `str()` function which converts values to strings. This will let us build a string with our variables in it, but it can get quite clunky to write:"
     ]
    },
    {
     "cell_type": "code",
     "collapsed": false,
     "input": [
      "print(\"String 1 is \" + string1 + \", string 2 is \" + string2 + \". The lengths are \" + str(L) + \".\")"
     ],
     "language": "python",
     "metadata": {},
     "outputs": [
      {
       "output_type": "stream",
       "stream": "stdout",
       "text": [
        "String 1 is GATTACA, string 2 is GACTATA. The lengths are 7.\n"
       ]
      }
     ],
     "prompt_number": 7
    },
    {
     "cell_type": "markdown",
     "metadata": {},
     "source": [
      "More convenient and flexible string formatting in Python can be done with the `.format()` method, which is used on strings. It looks like this:"
     ]
    },
    {
     "cell_type": "code",
     "collapsed": false,
     "input": [
      "print(\"String 1 is {0}, string 2 is {1}. The lengths are {2}.\".format(string1, string2, L))"
     ],
     "language": "python",
     "metadata": {},
     "outputs": [
      {
       "output_type": "stream",
       "stream": "stdout",
       "text": [
        "String 1 is GATTACA, string 2 is GACTATA. The lengths are 7.\n"
       ]
      }
     ],
     "prompt_number": 8
    },
    {
     "cell_type": "markdown",
     "metadata": {},
     "source": [
      "The `.format()` method prints its first argument into the \"replacement fields\" surrounded by curly braces `{}` in the string. The first argument goes into `{0}`, the second into `{1}`, and so on. There's nothing to stop us from using a replacement field more than once:"
     ]
    },
    {
     "cell_type": "code",
     "collapsed": false,
     "input": [
      "print(\"String 1 is {0}, string 2 is {1}. The lengths are {2}.\\nThe Hamming Distance between {0} and {1} is {3}\".format(string1, \n",
      "                                                                                                                      string2, \n",
      "                                                                                                                      L, \n",
      "                                                                                                                      hamming_distance(string1, string2)))"
     ],
     "language": "python",
     "metadata": {},
     "outputs": [
      {
       "output_type": "stream",
       "stream": "stdout",
       "text": [
        "String 1 is GATTACA, string 2 is GACTATA. The lengths are 7.\n",
        "The Hamming Distance between GATTACA and GACTATA is 2\n"
       ]
      }
     ],
     "prompt_number": 9
    },
    {
     "cell_type": "markdown",
     "metadata": {},
     "source": [
      "Notice that here we have added a \"\\n\" to the string, and that Python printed it as a newline. We'll look at this in more detail in a moment."
     ]
    },
    {
     "cell_type": "markdown",
     "metadata": {},
     "source": [
      "It's also possible to use named keywords instead of numbers, like so:"
     ]
    },
    {
     "cell_type": "code",
     "collapsed": false,
     "input": [
      "\"The Hamming Distance between {s1} and {s2} is {dist}\".format(s1=string1, s2=string2, dist=hamming_distance(string1, string2))"
     ],
     "language": "python",
     "metadata": {},
     "outputs": [
      {
       "metadata": {},
       "output_type": "pyout",
       "prompt_number": 10,
       "text": [
        "'The Hamming Distance between GATTACA and GACTATA is 2'"
       ]
      }
     ],
     "prompt_number": 10
    },
    {
     "cell_type": "markdown",
     "metadata": {},
     "source": [
      "The replacement fields have many options to change the way variables are displayed. For instance, we can change the number of decimal places printed, or whether a string is left-aligned. We can't cover these here, but you can look these options up in the [format string syntax](https://docs.python.org/2/library/string.html#formatstrings) documentation."
     ]
    },
    {
     "cell_type": "heading",
     "level": 3,
     "metadata": {},
     "source": [
      "Escape characters and multi-line strings"
     ]
    },
    {
     "cell_type": "markdown",
     "metadata": {},
     "source": [
      "Above, we wrote \"\\n\" in a string, and it caused Python to print a newline (move down to the next line). \n",
      "\n",
      "\n",
      "A backslash \\\\ indicates an *escape character*, which means that the character after the backslash is not printed normally, but treated as a special character. \"\\n\" inserts a newline, and \"\\t\" inserts a tab. "
     ]
    },
    {
     "cell_type": "code",
     "collapsed": false,
     "input": [
      "s = \"Line 1.\\nLine 2.\\n\\t\\tLine 3 is indented with two tabs.\""
     ],
     "language": "python",
     "metadata": {},
     "outputs": [],
     "prompt_number": 11
    },
    {
     "cell_type": "code",
     "collapsed": false,
     "input": [
      "print(s)"
     ],
     "language": "python",
     "metadata": {},
     "outputs": [
      {
       "output_type": "stream",
       "stream": "stdout",
       "text": [
        "Line 1.\n",
        "Line 2.\n",
        "\t\tLine 3 is indented with two tabs.\n"
       ]
      }
     ],
     "prompt_number": 12
    },
    {
     "cell_type": "markdown",
     "metadata": {},
     "source": [
      "Using a backslash in a string can also be used to 'escape' a character that would otherwise have a special meaning, like a quote: "
     ]
    },
    {
     "cell_type": "code",
     "collapsed": false,
     "input": [
      "print(\"The two types of single-quote characters are \\\" and \\'.\")"
     ],
     "language": "python",
     "metadata": {},
     "outputs": [
      {
       "output_type": "stream",
       "stream": "stdout",
       "text": [
        "The two types of single-quote characters are \" and '.\n"
       ]
      }
     ],
     "prompt_number": 13
    },
    {
     "cell_type": "markdown",
     "metadata": {},
     "source": [
      "But what if you want to write an actual backslash in your string, not use it to escape another character? Since backslash itself has a special meaning, the way to write is to escape the backslash itself!"
     ]
    },
    {
     "cell_type": "code",
     "collapsed": false,
     "input": [
      "print(\"The escape character is \\\\.\")"
     ],
     "language": "python",
     "metadata": {},
     "outputs": [
      {
       "output_type": "stream",
       "stream": "stdout",
       "text": [
        "The escape character is \\.\n"
       ]
      }
     ],
     "prompt_number": 14
    },
    {
     "cell_type": "markdown",
     "metadata": {},
     "source": [
      "If we have a very long string that will span multiple lines, and we want it to be readable, there is a particularly convenient method: the triple-quote operator, \"\"\" or '''. Everything from the first triple-quote to the next will be part of the string, even if it spans multiple lines. Whitespace characters like tabs or spaces, and non-triple quote characters, will just be included as part of the string."
     ]
    },
    {
     "cell_type": "code",
     "collapsed": false,
     "input": [
      "bulldog = '''... clutching out, he found his arms full of totally unexpected bulldog.\n",
      "\n",
      "\"Get out!\" whispered Sam tensely, recovering his faculties with a jerk. \"Go away!\"\n",
      "'''"
     ],
     "language": "python",
     "metadata": {},
     "outputs": [],
     "prompt_number": 15
    },
    {
     "cell_type": "code",
     "collapsed": false,
     "input": [
      "print(bulldog)"
     ],
     "language": "python",
     "metadata": {},
     "outputs": [
      {
       "output_type": "stream",
       "stream": "stdout",
       "text": [
        "... clutching out, he found his arms full of totally unexpected bulldog.\n",
        "\n",
        "\"Get out!\" whispered Sam tensely, recovering his faculties with a jerk. \"Go away!\"\n",
        "\n"
       ]
      }
     ],
     "prompt_number": 16
    },
    {
     "cell_type": "markdown",
     "metadata": {},
     "source": [
      "Strings created this way are normal strings: they can be indexed, sliced etc."
     ]
    },
    {
     "cell_type": "code",
     "collapsed": false,
     "input": [
      "bulldog[53:71]"
     ],
     "language": "python",
     "metadata": {},
     "outputs": [
      {
       "metadata": {},
       "output_type": "pyout",
       "prompt_number": 17,
       "text": [
        "'unexpected bulldog'"
       ]
      }
     ],
     "prompt_number": 17
    },
    {
     "cell_type": "code",
     "collapsed": false,
     "input": [
      "bulldog[72]"
     ],
     "language": "python",
     "metadata": {},
     "outputs": [
      {
       "metadata": {},
       "output_type": "pyout",
       "prompt_number": 18,
       "text": [
        "'\\n'"
       ]
      }
     ],
     "prompt_number": 18
    },
    {
     "cell_type": "heading",
     "level": 2,
     "metadata": {},
     "source": [
      "Docstrings"
     ]
    },
    {
     "cell_type": "markdown",
     "metadata": {},
     "source": [
      "A *docstring* is a string which Python interprets as documentation. Any string placed at the start of a function definition will be interpreted as a docstring. "
     ]
    },
    {
     "cell_type": "code",
     "collapsed": false,
     "input": [
      "def double(x):\n",
      "    \"Return two times x.\"\n",
      "    return(2*x)"
     ],
     "language": "python",
     "metadata": {},
     "outputs": [],
     "prompt_number": 19
    },
    {
     "cell_type": "code",
     "collapsed": false,
     "input": [
      "double(4)"
     ],
     "language": "python",
     "metadata": {},
     "outputs": [
      {
       "metadata": {},
       "output_type": "pyout",
       "prompt_number": 20,
       "text": [
        "8"
       ]
      }
     ],
     "prompt_number": 20
    },
    {
     "cell_type": "markdown",
     "metadata": {},
     "source": [
      "Docstrings are a very useful convention for human readability, and what's more, they are also treated as documentation by Python itself. If we now use the built-in `help()` function:"
     ]
    },
    {
     "cell_type": "code",
     "collapsed": false,
     "input": [
      "help(double)"
     ],
     "language": "python",
     "metadata": {},
     "outputs": [
      {
       "output_type": "stream",
       "stream": "stdout",
       "text": [
        "Help on function double in module __main__:\n",
        "\n",
        "double(x)\n",
        "    Return two times x.\n",
        "\n"
       ]
      }
     ],
     "prompt_number": 21
    },
    {
     "cell_type": "markdown",
     "metadata": {},
     "source": [
      "It's a good idea to include a docstring in all your function definitions!\n",
      "\n",
      "Docstrings can also be used in other Python objects such as class definitions (in object-oriented programming) and in Python scripts themselves (by adding a string at the top of the script file)."
     ]
    },
    {
     "cell_type": "markdown",
     "metadata": {},
     "source": [
      "Often we'll want to write a longer docstring than will fit on one line. The triple-quote operator is perfect for this."
     ]
    },
    {
     "cell_type": "code",
     "collapsed": false,
     "input": [
      "def double(x):\n",
      "    \"\"\"\n",
      "    Take a numeric value x.\n",
      "    Return two times x.\n",
      "    \"\"\"\n",
      "    return 2*x"
     ],
     "language": "python",
     "metadata": {},
     "outputs": [],
     "prompt_number": 22
    },
    {
     "cell_type": "markdown",
     "metadata": {},
     "source": [
      "Ideally, a function docstring should tell us:\n",
      "\n",
      "- what the function is for\n",
      "- what the inputs mean, and the expected types\n",
      "- what the output will be, and its type\n",
      "\n",
      "There is a standard for describing all this information which is followed by numpy, and which is a good convention to follow. That standard is described [here](https://github.com/numpy/numpy/blob/master/doc/HOWTO_DOCUMENT.rst.txt). Not only will this make it easy to understand your programs, it also means that you can use tools to automatically produce good documentation from your code. Numpy reference pages, like [these](http://docs.scipy.org/doc/numpy/reference/routines.random.html), are produced this way. You can even use the example input and output in such a docstring to automatically generate tests for your code."
     ]
    },
    {
     "cell_type": "markdown",
     "metadata": {},
     "source": [
      "**Exercise 1:** Add a docstring to your `hamming_distance` function to describe what it does. Test it with the `help()` function. \n",
      "\n",
      "**Exercise 2:** Optionally, upgrade your docstring to a numpy-style docstring."
     ]
    },
    {
     "cell_type": "heading",
     "level": 2,
     "metadata": {},
     "source": [
      "Python-style iteration"
     ]
    },
    {
     "cell_type": "markdown",
     "metadata": {},
     "source": [
      "We've seen that for loops in Python have the general form\n",
      "\n",
      "~~~python\n",
      "for item in iterable_variable:\n",
      "    do_something\n",
      "~~~"
     ]
    },
    {
     "cell_type": "markdown",
     "metadata": {},
     "source": [
      "This means that we can loop over the characters of a string directly, like"
     ]
    },
    {
     "cell_type": "code",
     "collapsed": false,
     "input": [
      "for char in \"CAT\":\n",
      "    print(char*3)"
     ],
     "language": "python",
     "metadata": {},
     "outputs": [
      {
       "output_type": "stream",
       "stream": "stdout",
       "text": [
        "CCC\n",
        "AAA\n",
        "TTT\n"
       ]
      }
     ],
     "prompt_number": 23
    },
    {
     "cell_type": "markdown",
     "metadata": {},
     "source": [
      "Or over any kind of list:"
     ]
    },
    {
     "cell_type": "code",
     "collapsed": false,
     "input": [
      "odd_numbers = [1, 3, 5, 7, 9, 11]\n",
      "odd_strings = [\"one\", \"three\", \"five\", \"seven\", \"nine\", \"eleven\"]\n",
      "\n",
      "for num in odd_strings:\n",
      "    print(num)"
     ],
     "language": "python",
     "metadata": {},
     "outputs": [
      {
       "output_type": "stream",
       "stream": "stdout",
       "text": [
        "one\n",
        "three\n",
        "five\n",
        "seven\n",
        "nine\n",
        "eleven\n"
       ]
      }
     ],
     "prompt_number": 24
    },
    {
     "cell_type": "markdown",
     "metadata": {},
     "source": [
      "There are several built-in Python functions that can help take advantage of this kind of iteration.\n",
      "\n",
      "`enumerate()` will return an iterable together with its index values, where each item is replaced by a tuple:"
     ]
    },
    {
     "cell_type": "code",
     "collapsed": false,
     "input": [
      "for val in enumerate(odd_strings):\n",
      "    print(val)"
     ],
     "language": "python",
     "metadata": {},
     "outputs": [
      {
       "output_type": "stream",
       "stream": "stdout",
       "text": [
        "(0, 'one')\n",
        "(1, 'three')\n",
        "(2, 'five')\n",
        "(3, 'seven')\n",
        "(4, 'nine')\n",
        "(5, 'eleven')\n"
       ]
      }
     ],
     "prompt_number": 25
    },
    {
     "cell_type": "markdown",
     "metadata": {},
     "source": [
      "This can be useful when we actually care about the indices:"
     ]
    },
    {
     "cell_type": "code",
     "collapsed": false,
     "input": [
      "for (i,num) in enumerate(odd_numbers):\n",
      "    print(\"Odd number {0} is {1}\".format(i+1, num))"
     ],
     "language": "python",
     "metadata": {},
     "outputs": [
      {
       "output_type": "stream",
       "stream": "stdout",
       "text": [
        "Odd number 1 is 1\n",
        "Odd number 2 is 3\n",
        "Odd number 3 is 5\n",
        "Odd number 4 is 7\n",
        "Odd number 5 is 9\n",
        "Odd number 6 is 11\n"
       ]
      }
     ],
     "prompt_number": 26
    },
    {
     "cell_type": "markdown",
     "metadata": {},
     "source": [
      "This is a more concise and readable alternative to writing \n",
      "\n",
      "~~~python\n",
      "for i in range(len(odd_numbers)):\n",
      "~~~\n",
      "\n",
      "and using indexing.\n",
      "\n",
      "Also notice that we've written \n",
      "\n",
      "~~~python\n",
      "for (i,num) in...\n",
      "~~~\n",
      "Each item in `enumerate(odd_numbers)` is a tuple, and this syntax assigns each of these tuples in turn to the tuple of variables `(i,num)`."
     ]
    },
    {
     "cell_type": "markdown",
     "metadata": {},
     "source": [
      "Another useful function is `zip()`. `zip()` takes multiple lists and turns them into one list of tuples, like so:"
     ]
    },
    {
     "cell_type": "code",
     "collapsed": false,
     "input": [
      "zip(odd_numbers, odd_strings)"
     ],
     "language": "python",
     "metadata": {},
     "outputs": [
      {
       "metadata": {},
       "output_type": "pyout",
       "prompt_number": 27,
       "text": [
        "[(1, 'one'),\n",
        " (3, 'three'),\n",
        " (5, 'five'),\n",
        " (7, 'seven'),\n",
        " (9, 'nine'),\n",
        " (11, 'eleven')]"
       ]
      }
     ],
     "prompt_number": 27
    },
    {
     "cell_type": "markdown",
     "metadata": {},
     "source": [
      "This makes it easy to iterate over multiple lists at once:"
     ]
    },
    {
     "cell_type": "code",
     "collapsed": false,
     "input": [
      "for (num,numstring) in zip(odd_numbers, odd_strings):\n",
      "    print(\"Number {0} is written {1}.\".format(num, numstring))"
     ],
     "language": "python",
     "metadata": {},
     "outputs": [
      {
       "output_type": "stream",
       "stream": "stdout",
       "text": [
        "Number 1 is written one.\n",
        "Number 3 is written three.\n",
        "Number 5 is written five.\n",
        "Number 7 is written seven.\n",
        "Number 9 is written nine.\n",
        "Number 11 is written eleven.\n"
       ]
      }
     ],
     "prompt_number": 28
    },
    {
     "cell_type": "markdown",
     "metadata": {},
     "source": [
      "#### Exercise 1:\n",
      "\n",
      "Write a loop which uses `odd_numbers` and `odd_strings` to print out\n",
      "~~~\n",
      "Odd number 1 is 1, written one.\n",
      "Odd number 2 is 3, written three.\n",
      "Odd number 3 is 5, written five.\n",
      "....\n",
      "~~~\n",
      "\n",
      "There is more than one way to solve this. Compare your solution to your neighbour's.\n",
      "\n",
      "\n",
      "#### Exercise 2:\n",
      "\n",
      "In our Hamming distance function, we have to loop over two strings simultaneously to compare the characters. So, we currently use a rather clunky construction: we use `len()` to find the length of the strings, `range()` to generate numbers, and then we index the strings at every step:\n",
      "\n",
      "~~~python\n",
      "L = len(string1)\n",
      "for i in range(L):\n",
      "    if string1[i] != string2[i]:\n",
      "        distance += 1\n",
      "~~~\n",
      "\n",
      "Rewrite your Hamming distance function to take advantage of `zip()` so that you don't need to use string indexing at all."
     ]
    },
    {
     "cell_type": "heading",
     "level": 3,
     "metadata": {},
     "source": [
      "List comprehensions"
     ]
    },
    {
     "cell_type": "markdown",
     "metadata": {},
     "source": [
      "List comprehensions are a concise way to create lists in Python, where you would ordinarily have to use a `for` loop. They act like very compact loops, and in some situations, they can make your program quite clear to read.\n",
      "\n",
      "The basic form of a list comprehension is:\n",
      "\n",
      "~~~python\n",
      "[f(x) for x in list]\n",
      "~~~"
     ]
    },
    {
     "cell_type": "markdown",
     "metadata": {},
     "source": [
      "For instance, here is list comprehension that just doubles every number in the original list:"
     ]
    },
    {
     "cell_type": "code",
     "collapsed": false,
     "input": [
      "[num*2 for num in odd_numbers]"
     ],
     "language": "python",
     "metadata": {},
     "outputs": [
      {
       "metadata": {},
       "output_type": "pyout",
       "prompt_number": 29,
       "text": [
        "[2, 6, 10, 14, 18, 22]"
       ]
      }
     ],
     "prompt_number": 29
    },
    {
     "cell_type": "markdown",
     "metadata": {},
     "source": [
      "Of course, it's easy to assign the new list to a variable:"
     ]
    },
    {
     "cell_type": "code",
     "collapsed": false,
     "input": [
      "doubled_odd_numbers = [num*2 for num in odd_numbers]"
     ],
     "language": "python",
     "metadata": {},
     "outputs": [],
     "prompt_number": 30
    },
    {
     "cell_type": "markdown",
     "metadata": {},
     "source": [
      "To create `doubled_odd_numbers` using a loop, we would have had to write:\n",
      "\n",
      "~~~python\n",
      "doubled_odd_numbers = []\n",
      "for num in odd_numbers:\n",
      "    doubled_odd_numbers.append(2*num)\n",
      "~~~"
     ]
    },
    {
     "cell_type": "markdown",
     "metadata": {},
     "source": [
      "Which of these makes it most clear what we are trying to do?\n",
      "\n",
      "Here's another simple example that uses the uppercase conversion method for strings, `.upper()`: "
     ]
    },
    {
     "cell_type": "code",
     "collapsed": false,
     "input": [
      "[each_string.upper() for each_string in odd_strings]"
     ],
     "language": "python",
     "metadata": {},
     "outputs": [
      {
       "metadata": {},
       "output_type": "pyout",
       "prompt_number": 31,
       "text": [
        "['ONE', 'THREE', 'FIVE', 'SEVEN', 'NINE', 'ELEVEN']"
       ]
      }
     ],
     "prompt_number": 31
    },
    {
     "cell_type": "markdown",
     "metadata": {},
     "source": [
      "The longer form of list comprehensions includes a conditional, and looks like\n",
      "\n",
      "~~~python\n",
      "[f(x) for x in list if condition]\n",
      "~~~\n",
      "\n",
      "For instance, all the odd number names that are shorter than five letters long:"
     ]
    },
    {
     "cell_type": "code",
     "collapsed": false,
     "input": [
      "[each_string.upper() for each_string in odd_strings if len(each_string) < 5]"
     ],
     "language": "python",
     "metadata": {},
     "outputs": [
      {
       "metadata": {},
       "output_type": "pyout",
       "prompt_number": 32,
       "text": [
        "['ONE', 'FIVE', 'NINE']"
       ]
      }
     ],
     "prompt_number": 32
    },
    {
     "cell_type": "markdown",
     "metadata": {},
     "source": [
      "Or we can leave out the `.upper()` and just get the value itself, filtered by the condition. We still need the `for` keyword though, so our list comprehension ends up looking list this:"
     ]
    },
    {
     "cell_type": "code",
     "collapsed": false,
     "input": [
      "[each_string for each_string in odd_strings if len(each_string) < 5]"
     ],
     "language": "python",
     "metadata": {},
     "outputs": [
      {
       "metadata": {},
       "output_type": "pyout",
       "prompt_number": 33,
       "text": [
        "['one', 'five', 'nine']"
       ]
      }
     ],
     "prompt_number": 33
    },
    {
     "cell_type": "markdown",
     "metadata": {},
     "source": [
      "#### Challenge (hard!)\n",
      "\n",
      "If you have a Hamming distance function that uses `zip()`, can you think of a way to replace the `for` loop in your function with a list comprehension?\n",
      "\n",
      "There are a couple of ways to do this, but it takes some lateral thinking. As a hint, if you're going to produce a list of values, you will need to use a function like `len()` or `sum()` to convert them into your final number that gives Hamming distance.\n",
      "\n",
      "Do you think that this list comprehension makes your program easier to understand, or harder? In general, if you ever find that using a list comprehension is actually making your program less clear rather than more clear, you should consider using a loop instead - it may not be quite as concise, but clarity is much more important."
     ]
    },
    {
     "cell_type": "heading",
     "level": 2,
     "metadata": {},
     "source": [
      "Error handling: Exceptions"
     ]
    },
    {
     "cell_type": "markdown",
     "metadata": {},
     "source": [
      "One serious problem with our current solution is the way it handles errors.\n",
      "\n",
      "We only have a good definition for Hamming distance when the strings are the same length. In our function, we've assumed `string1` and `string2` will always be the same length. But what if they're not?"
     ]
    },
    {
     "cell_type": "code",
     "collapsed": false,
     "input": [
      "hamming_distance(\"SHORT\",\"THIS_IS_A_LONG_STRING\")"
     ],
     "language": "python",
     "metadata": {},
     "outputs": [
      {
       "metadata": {},
       "output_type": "pyout",
       "prompt_number": 34,
       "text": [
        "4"
       ]
      }
     ],
     "prompt_number": 34
    },
    {
     "cell_type": "code",
     "collapsed": false,
     "input": [
      "hamming_distance(\"THIS_IS_A_LONG_STRING\",\"SHORT\")"
     ],
     "language": "python",
     "metadata": {},
     "outputs": [
      {
       "ename": "IndexError",
       "evalue": "string index out of range",
       "output_type": "pyerr",
       "traceback": [
        "\u001b[0;31m---------------------------------------------------------------------------\u001b[0m\n\u001b[0;31mIndexError\u001b[0m                                Traceback (most recent call last)",
        "\u001b[0;32m<ipython-input-35-8877eff1c5e5>\u001b[0m in \u001b[0;36m<module>\u001b[0;34m()\u001b[0m\n\u001b[0;32m----> 1\u001b[0;31m \u001b[0mhamming_distance\u001b[0m\u001b[0;34m(\u001b[0m\u001b[0;34m\"THIS_IS_A_LONG_STRING\"\u001b[0m\u001b[0;34m,\u001b[0m\u001b[0;34m\"SHORT\"\u001b[0m\u001b[0;34m)\u001b[0m\u001b[0;34m\u001b[0m\u001b[0m\n\u001b[0m",
        "\u001b[0;32m<ipython-input-2-79e0fea0a434>\u001b[0m in \u001b[0;36mhamming_distance\u001b[0;34m(string1, string2)\u001b[0m\n\u001b[1;32m      8\u001b[0m     \u001b[0;32mfor\u001b[0m \u001b[0mi\u001b[0m \u001b[0;32min\u001b[0m \u001b[0mrange\u001b[0m\u001b[0;34m(\u001b[0m\u001b[0mL\u001b[0m\u001b[0;34m)\u001b[0m\u001b[0;34m:\u001b[0m\u001b[0;34m\u001b[0m\u001b[0m\n\u001b[1;32m      9\u001b[0m         \u001b[0;31m# Add 1 to the distance if these two characters are not equal\u001b[0m\u001b[0;34m\u001b[0m\u001b[0;34m\u001b[0m\u001b[0m\n\u001b[0;32m---> 10\u001b[0;31m         \u001b[0;32mif\u001b[0m \u001b[0mstring1\u001b[0m\u001b[0;34m[\u001b[0m\u001b[0mi\u001b[0m\u001b[0;34m]\u001b[0m \u001b[0;34m!=\u001b[0m \u001b[0mstring2\u001b[0m\u001b[0;34m[\u001b[0m\u001b[0mi\u001b[0m\u001b[0;34m]\u001b[0m\u001b[0;34m:\u001b[0m\u001b[0;34m\u001b[0m\u001b[0m\n\u001b[0m\u001b[1;32m     11\u001b[0m             \u001b[0mdistance\u001b[0m \u001b[0;34m+=\u001b[0m \u001b[0;36m1\u001b[0m\u001b[0;34m\u001b[0m\u001b[0m\n\u001b[1;32m     12\u001b[0m     \u001b[0;31m# Return the final count of differences\u001b[0m\u001b[0;34m\u001b[0m\u001b[0;34m\u001b[0m\u001b[0m\n",
        "\u001b[0;31mIndexError\u001b[0m: string index out of range"
       ]
      }
     ],
     "prompt_number": 35
    },
    {
     "cell_type": "markdown",
     "metadata": {},
     "source": [
      "This doesn't look very good. We get a different result depending on which order we pass the strings in - that's definitely not something we want. And neither result really makes sense.\n",
      "\n",
      "In the first case, `L=len(string1)` took on a value of `5`, and our function just compared \"SHORT\" to \"THIS\\_\". It didn't warn us about all the extra, un-matched letters.\n",
      "\n",
      "In the second case, we get an error message, which is arguably a better thing to happen. It isn't a very informative error message though, especially for someone who's trying to reuse our function and doesn't know the details of how it works: \"IndexError: string index out of range\"\n",
      "\n",
      "**Stop and think: do you understand what went wrong in this case?**\n",
      "\n",
      "What's happened here is that `L=len(string1)` took on a value of `21`. Since `string2` doesn't have 21 letters, the attempt to index `string2[i]` failed as soon as we reached `i==5`."
     ]
    },
    {
     "cell_type": "markdown",
     "metadata": {},
     "source": [
      "If we are practicing defensive programming, we should check that the inputs to our function are correct, and give an appropriate, informative error message if they're not. This is more useful behaviour than reporting \"IndexError\", and *much* more useful behaviour than reporting no errors and just giving the wrong answer.\n",
      "\n",
      "The standard way to create an error in Python is to **raise** an **Exception**. Exceptions are a data type specifically used to represent different types of errors. You've actually seen them already: every time we write a program that crashes, the error message that gets printed out is the result of an Exception. This includes the `IndexError` message our Hamming distance function gives currently."
     ]
    },
    {
     "cell_type": "markdown",
     "metadata": {},
     "source": [
      "We can *manually* create an error with the `raise()` command. "
     ]
    },
    {
     "cell_type": "code",
     "collapsed": false,
     "input": [
      "raise(Exception(\"Oh no! Something bad happened!\"))"
     ],
     "language": "python",
     "metadata": {},
     "outputs": [
      {
       "ename": "Exception",
       "evalue": "Oh no! Something bad happened!",
       "output_type": "pyerr",
       "traceback": [
        "\u001b[0;31m---------------------------------------------------------------------------\u001b[0m\n\u001b[0;31mException\u001b[0m                                 Traceback (most recent call last)",
        "\u001b[0;32m<ipython-input-36-8f5202952286>\u001b[0m in \u001b[0;36m<module>\u001b[0;34m()\u001b[0m\n\u001b[0;32m----> 1\u001b[0;31m \u001b[0;32mraise\u001b[0m\u001b[0;34m(\u001b[0m\u001b[0mException\u001b[0m\u001b[0;34m(\u001b[0m\u001b[0;34m\"Oh no! Something bad happened!\"\u001b[0m\u001b[0;34m)\u001b[0m\u001b[0;34m)\u001b[0m\u001b[0;34m\u001b[0m\u001b[0m\n\u001b[0m",
        "\u001b[0;31mException\u001b[0m: Oh no! Something bad happened!"
       ]
      }
     ],
     "prompt_number": 36
    },
    {
     "cell_type": "markdown",
     "metadata": {},
     "source": [
      "Here we have created a new Exception with `Exception(error_message)`, and passed it to `raise()`, which stops the program and prints the error. Exceptions are objects and can be assigned to variables:"
     ]
    },
    {
     "cell_type": "code",
     "collapsed": false,
     "input": [
      "my_error = Exception(\"Oh no!\")\n",
      "print(\"Nothing bad has happened yet.\")\n",
      "raise(my_error)"
     ],
     "language": "python",
     "metadata": {},
     "outputs": [
      {
       "output_type": "stream",
       "stream": "stdout",
       "text": [
        "Nothing bad has happened yet.\n"
       ]
      },
      {
       "ename": "Exception",
       "evalue": "Oh no!",
       "output_type": "pyerr",
       "traceback": [
        "\u001b[0;31m---------------------------------------------------------------------------\u001b[0m\n\u001b[0;31mException\u001b[0m                                 Traceback (most recent call last)",
        "\u001b[0;32m<ipython-input-37-5f9d4b0bab10>\u001b[0m in \u001b[0;36m<module>\u001b[0;34m()\u001b[0m\n\u001b[1;32m      1\u001b[0m \u001b[0mmy_error\u001b[0m \u001b[0;34m=\u001b[0m \u001b[0mException\u001b[0m\u001b[0;34m(\u001b[0m\u001b[0;34m\"Oh no!\"\u001b[0m\u001b[0;34m)\u001b[0m\u001b[0;34m\u001b[0m\u001b[0m\n\u001b[1;32m      2\u001b[0m \u001b[0;32mprint\u001b[0m\u001b[0;34m(\u001b[0m\u001b[0;34m\"Nothing bad has happened yet.\"\u001b[0m\u001b[0;34m)\u001b[0m\u001b[0;34m\u001b[0m\u001b[0m\n\u001b[0;32m----> 3\u001b[0;31m \u001b[0;32mraise\u001b[0m\u001b[0;34m(\u001b[0m\u001b[0mmy_error\u001b[0m\u001b[0;34m)\u001b[0m\u001b[0;34m\u001b[0m\u001b[0m\n\u001b[0m",
        "\u001b[0;31mException\u001b[0m: Oh no!"
       ]
      }
     ],
     "prompt_number": 37
    },
    {
     "cell_type": "markdown",
     "metadata": {},
     "source": [
      "#### Exercise\n",
      "\n",
      "Add a test to the start of your `hamming_distance()` function to test that the length of `string1` is the same as the length of `string2`. If they are different, raise an Exception with an appropriate error message. Test out your new, improved function with some incorrect strings."
     ]
    },
    {
     "cell_type": "markdown",
     "metadata": {},
     "source": [
      "**Note:** There are actually many different subclasses of Exceptions, some of which you've probably seen: `IndexError`, `TypeError`, `ValueError`, etc. You can find the (long) list of Exception types for Python 2 at https://docs.python.org/2/library/exceptions.html . If you'd like, you can make your program even more debugger-friendly by creating the right type of Exception to describe what went wrong - for instance, if `hamming_distance()` is called with strings of different lengths, that is probably a `ValueError`. For our purposes today it is fine to just create a generic `Exception`."
     ]
    },
    {
     "cell_type": "heading",
     "level": 3,
     "metadata": {},
     "source": [
      "Catching exceptions"
     ]
    },
    {
     "cell_type": "markdown",
     "metadata": {},
     "source": [
      "A nice side-effect of Python's method of reporting errors is that we can have our program choose what to do about certain kinds of errors, or even ignore them completely, instead of crashing. This is done with a try-except block. We *try* to execute some code, and if it fails, we can choose what to do about the errors.\n",
      "\n",
      "The basic form is\n",
      "\n",
      "~~~python\n",
      "try:\n",
      "    do_something\n",
      "except:\n",
      "    handle_errors\n",
      "~~~\n",
      "\n",
      "The code in the `except` block is only called if the code in the `try` block crashes. It's a little like an if-else statement.\n",
      "\n",
      "For instance, say we want to write a function which calculates the average of a list of numbers and turns it into a string. "
     ]
    },
    {
     "cell_type": "code",
     "collapsed": false,
     "input": [
      "def average(numbers):\n",
      "    \"\"\"\n",
      "    Calculate the average of a list of numbers, and return a string representation.\n",
      "    \"\"\"\n",
      "    av = sum(numbers)/len(numbers)\n",
      "    return str(av)"
     ],
     "language": "python",
     "metadata": {},
     "outputs": [],
     "prompt_number": 38
    },
    {
     "cell_type": "markdown",
     "metadata": {},
     "source": [
      "We can find the average of many lists, with a loop:"
     ]
    },
    {
     "cell_type": "code",
     "collapsed": false,
     "input": [
      "many_lists = [[3,4,5],[4,2,6,3],[4],[],[2,3,4],[7,3,4,6,2],[]]"
     ],
     "language": "python",
     "metadata": {},
     "outputs": [],
     "prompt_number": 39
    },
    {
     "cell_type": "code",
     "collapsed": false,
     "input": [
      "for number_list in many_lists:\n",
      "    print(average(number_list))"
     ],
     "language": "python",
     "metadata": {},
     "outputs": [
      {
       "output_type": "stream",
       "stream": "stdout",
       "text": [
        "4.0\n",
        "3.75\n",
        "4.0\n"
       ]
      },
      {
       "ename": "ZeroDivisionError",
       "evalue": "division by zero",
       "output_type": "pyerr",
       "traceback": [
        "\u001b[0;31m---------------------------------------------------------------------------\u001b[0m\n\u001b[0;31mZeroDivisionError\u001b[0m                         Traceback (most recent call last)",
        "\u001b[0;32m<ipython-input-40-d6548a04280b>\u001b[0m in \u001b[0;36m<module>\u001b[0;34m()\u001b[0m\n\u001b[1;32m      1\u001b[0m \u001b[0;32mfor\u001b[0m \u001b[0mnumber_list\u001b[0m \u001b[0;32min\u001b[0m \u001b[0mmany_lists\u001b[0m\u001b[0;34m:\u001b[0m\u001b[0;34m\u001b[0m\u001b[0m\n\u001b[0;32m----> 2\u001b[0;31m     \u001b[0;32mprint\u001b[0m\u001b[0;34m(\u001b[0m\u001b[0maverage\u001b[0m\u001b[0;34m(\u001b[0m\u001b[0mnumber_list\u001b[0m\u001b[0;34m)\u001b[0m\u001b[0;34m)\u001b[0m\u001b[0;34m\u001b[0m\u001b[0m\n\u001b[0m",
        "\u001b[0;32m<ipython-input-38-5c4b88a1efba>\u001b[0m in \u001b[0;36maverage\u001b[0;34m(numbers)\u001b[0m\n\u001b[1;32m      3\u001b[0m     \u001b[0mCalculate\u001b[0m \u001b[0mthe\u001b[0m \u001b[0maverage\u001b[0m \u001b[0mof\u001b[0m \u001b[0ma\u001b[0m \u001b[0mlist\u001b[0m \u001b[0mof\u001b[0m \u001b[0mnumbers\u001b[0m\u001b[0;34m,\u001b[0m \u001b[0;32mand\u001b[0m \u001b[0;32mreturn\u001b[0m \u001b[0ma\u001b[0m \u001b[0mstring\u001b[0m \u001b[0mrepresentation\u001b[0m\u001b[0;34m.\u001b[0m\u001b[0;34m\u001b[0m\u001b[0m\n\u001b[1;32m      4\u001b[0m     \"\"\"\n\u001b[0;32m----> 5\u001b[0;31m     \u001b[0mav\u001b[0m \u001b[0;34m=\u001b[0m \u001b[0msum\u001b[0m\u001b[0;34m(\u001b[0m\u001b[0mnumbers\u001b[0m\u001b[0;34m)\u001b[0m\u001b[0;34m/\u001b[0m\u001b[0mlen\u001b[0m\u001b[0;34m(\u001b[0m\u001b[0mnumbers\u001b[0m\u001b[0;34m)\u001b[0m\u001b[0;34m\u001b[0m\u001b[0m\n\u001b[0m\u001b[1;32m      6\u001b[0m     \u001b[0;32mreturn\u001b[0m \u001b[0mstr\u001b[0m\u001b[0;34m(\u001b[0m\u001b[0mav\u001b[0m\u001b[0;34m)\u001b[0m\u001b[0;34m\u001b[0m\u001b[0m\n",
        "\u001b[0;31mZeroDivisionError\u001b[0m: division by zero"
       ]
      }
     ],
     "prompt_number": 40
    },
    {
     "cell_type": "markdown",
     "metadata": {},
     "source": [
      "The program crashed at the first empty list, because the length of the list was zero. We didn't get to see any results after this one.\n",
      "\n",
      "Since we're producing a string anyway, maybe we don't want the entire program to crash if a list is empty - we'd just like to return a special string. One way to do this would be to test the length of the list at the start of the function. Another way is to use try-except, and catch the kind of exception we'd like to handle differently: in this case, a ZeroDivisionError."
     ]
    },
    {
     "cell_type": "code",
     "collapsed": false,
     "input": [
      "def average(numbers):\n",
      "    \"\"\"\n",
      "    Calculate the average of a list of numbers, and return a string representation.\n",
      "    If the list is empty, return \"Empty\".\n",
      "    \"\"\"\n",
      "    try:\n",
      "        av = sum(numbers)/len(numbers)\n",
      "        return str(av)\n",
      "    except ZeroDivisionError:\n",
      "        return \"Empty\""
     ],
     "language": "python",
     "metadata": {},
     "outputs": [],
     "prompt_number": 41
    },
    {
     "cell_type": "code",
     "collapsed": false,
     "input": [
      "for number_list in many_lists:\n",
      "    print(average(number_list))"
     ],
     "language": "python",
     "metadata": {},
     "outputs": [
      {
       "output_type": "stream",
       "stream": "stdout",
       "text": [
        "4.0\n",
        "3.75\n",
        "4.0\n",
        "Empty\n",
        "3.0\n",
        "4.4\n",
        "Empty\n"
       ]
      }
     ],
     "prompt_number": 42
    },
    {
     "cell_type": "markdown",
     "metadata": {},
     "source": [
      "Even though an exception was raised (twice!), the program kept running, and it was handled by our `except` block.\n",
      "\n",
      "Any kinds of exception other than a `ZeroDivisionError` will still cause the program to crash, which is a good thing - we want to know if something unexpected goes wrong."
     ]
    },
    {
     "cell_type": "heading",
     "level": 2,
     "metadata": {},
     "source": [
      "Testing and defensive programming: assertions"
     ]
    },
    {
     "cell_type": "markdown",
     "metadata": {},
     "source": [
      "As you've probably discovered by now, it's very easy to make mistakes while programming. How can we try to find out if there are still errors lurking in the code we have? And how can we guard against introducing new errors in code as we modify it?\n",
      "\n",
      "One way is to add [assertions](gloss.html#assertion) to our program so that it checks itself as it runs. An *assertion* is a statement which will raise an exception, causing the program to crash, if the condition in it is not true. For instance:"
     ]
    },
    {
     "cell_type": "code",
     "collapsed": false,
     "input": [
      "# This will do nothing, because the condition is true\n",
      "assert 5+3==8"
     ],
     "language": "python",
     "metadata": {},
     "outputs": [],
     "prompt_number": 43
    },
    {
     "cell_type": "code",
     "collapsed": false,
     "input": [
      "# This will stop running, because the condition is false\n",
      "assert 5+3==10"
     ],
     "language": "python",
     "metadata": {},
     "outputs": [
      {
       "ename": "AssertionError",
       "evalue": "",
       "output_type": "pyerr",
       "traceback": [
        "\u001b[0;31m---------------------------------------------------------------------------\u001b[0m\n\u001b[0;31mAssertionError\u001b[0m                            Traceback (most recent call last)",
        "\u001b[0;32m<ipython-input-44-daa426fc6a12>\u001b[0m in \u001b[0;36m<module>\u001b[0;34m()\u001b[0m\n\u001b[1;32m      1\u001b[0m \u001b[0;31m# This will stop running, because the condition is false\u001b[0m\u001b[0;34m\u001b[0m\u001b[0;34m\u001b[0m\u001b[0m\n\u001b[0;32m----> 2\u001b[0;31m \u001b[0;32massert\u001b[0m \u001b[0;36m5\u001b[0m\u001b[0;34m+\u001b[0m\u001b[0;36m3\u001b[0m\u001b[0;34m==\u001b[0m\u001b[0;36m10\u001b[0m\u001b[0;34m\u001b[0m\u001b[0m\n\u001b[0m",
        "\u001b[0;31mAssertionError\u001b[0m: "
       ]
      }
     ],
     "prompt_number": 44
    },
    {
     "cell_type": "markdown",
     "metadata": {},
     "source": [
      "Programs like the Firefox browser are littered with assertions: 10-20% of the code they contain are there to check that the other 80-90% are working correctly. \n",
      "\n",
      "One way we can use assertions is to write tests which our functions should pass. Here's an example function which is supposed to find the number 10 in a list, but which contains bugs."
     ]
    },
    {
     "cell_type": "code",
     "collapsed": false,
     "input": [
      "def find_ten(values):\n",
      "    \"\"\"\n",
      "    Find the index of the first value in the list equal to 10.\n",
      "    values should be a list of numbers, at least one of which is equal to 10.\n",
      "    \"\"\"\n",
      "    index = 0\n",
      "    for n in values:\n",
      "        if n==10:\n",
      "            return n\n",
      "        index + 1"
     ],
     "language": "python",
     "metadata": {},
     "outputs": [],
     "prompt_number": 45
    },
    {
     "cell_type": "markdown",
     "metadata": {},
     "source": [
      "We can assert some things about the expected output of this function. If we give it the list `[10, -5, 3, 20]`, we'd expect it to report that `10` is in the first location, index `0`. Here are some assertions which our function should pass if it's working correctly."
     ]
    },
    {
     "cell_type": "code",
     "collapsed": false,
     "input": [
      "assert find_ten([10, -5, 3, 20])==0\n",
      "assert find_ten([20, 32, 10, -5])==2"
     ],
     "language": "python",
     "metadata": {},
     "outputs": [
      {
       "ename": "AssertionError",
       "evalue": "",
       "output_type": "pyerr",
       "traceback": [
        "\u001b[0;31m---------------------------------------------------------------------------\u001b[0m\n\u001b[0;31mAssertionError\u001b[0m                            Traceback (most recent call last)",
        "\u001b[0;32m<ipython-input-46-a8792ec6866f>\u001b[0m in \u001b[0;36m<module>\u001b[0;34m()\u001b[0m\n\u001b[0;32m----> 1\u001b[0;31m \u001b[0;32massert\u001b[0m \u001b[0mfind_ten\u001b[0m\u001b[0;34m(\u001b[0m\u001b[0;34m[\u001b[0m\u001b[0;36m10\u001b[0m\u001b[0;34m,\u001b[0m \u001b[0;34m-\u001b[0m\u001b[0;36m5\u001b[0m\u001b[0;34m,\u001b[0m \u001b[0;36m3\u001b[0m\u001b[0;34m,\u001b[0m \u001b[0;36m20\u001b[0m\u001b[0;34m]\u001b[0m\u001b[0;34m)\u001b[0m\u001b[0;34m==\u001b[0m\u001b[0;36m0\u001b[0m\u001b[0;34m\u001b[0m\u001b[0m\n\u001b[0m\u001b[1;32m      2\u001b[0m \u001b[0;32massert\u001b[0m \u001b[0mfind_ten\u001b[0m\u001b[0;34m(\u001b[0m\u001b[0;34m[\u001b[0m\u001b[0;36m20\u001b[0m\u001b[0;34m,\u001b[0m \u001b[0;36m32\u001b[0m\u001b[0;34m,\u001b[0m \u001b[0;36m10\u001b[0m\u001b[0;34m,\u001b[0m \u001b[0;34m-\u001b[0m\u001b[0;36m5\u001b[0m\u001b[0;34m]\u001b[0m\u001b[0;34m)\u001b[0m\u001b[0;34m==\u001b[0m\u001b[0;36m2\u001b[0m\u001b[0;34m\u001b[0m\u001b[0m\n",
        "\u001b[0;31mAssertionError\u001b[0m: "
       ]
      }
     ],
     "prompt_number": 46
    },
    {
     "cell_type": "markdown",
     "metadata": {},
     "source": [
      "The first assertion failed! Why is this?"
     ]
    },
    {
     "cell_type": "code",
     "collapsed": false,
     "input": [
      "find_ten([10, -5, 3, 20])"
     ],
     "language": "python",
     "metadata": {},
     "outputs": [
      {
       "metadata": {},
       "output_type": "pyout",
       "prompt_number": 47,
       "text": [
        "10"
       ]
      }
     ],
     "prompt_number": 47
    },
    {
     "cell_type": "markdown",
     "metadata": {},
     "source": [
      "It looks like we are getting the answer `10` instead of the expected `0`.\n",
      "\n",
      "**Exercise:** Try to debug the function so that it passes *both* assertions.\n",
      "\n",
      "You'll probably find that a bug which doesn't trigger one assertion may trigger the other. Part of writing good tests is thinking of example inputs that could catch different kinds of problems."
     ]
    },
    {
     "cell_type": "markdown",
     "metadata": {},
     "source": [
      "But assertions aren't just about catching errors: they also help people understand programs. Each assertion gives the person reading the program a chance to check (consciously or otherwise) that their understanding matches what the code is doing.\n",
      "\n",
      "Most good programmers follow two rules when adding assertions to their code. The first is, \"fail early, fail often\". The greater the distance between when and where an error occurs and when it's noticed, the harder the error will be to debug, so good code catches mistakes as early as possible.\n",
      "\n",
      "The second rule is, \"turns bugs into assertions or tests\". If you made a mistake in a piece of code, the odds are good that you have made other mistakes nearby, or will make the same mistake (or a related one) the next time you change it. Writing assertions to check that you haven't regressed (i.e., haven't re-introduced an old problem) can save a lot of time in the long run, and helps to warn people who are reading the code (including your future self) that this bit is tricky."
     ]
    }
   ],
   "metadata": {}
  }
 ]
}