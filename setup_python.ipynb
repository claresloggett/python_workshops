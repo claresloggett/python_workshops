{
 "metadata": {
  "name": "",
  "signature": "sha256:df6449adf0bea5e883f28e20bce1a3e834009d0bafac1df3b25f8bba6305af8e"
 },
 "nbformat": 3,
 "nbformat_minor": 0,
 "worksheets": [
  {
   "cells": [
    {
     "cell_type": "heading",
     "level": 1,
     "metadata": {},
     "source": [
      "Introductory Programming: Setup"
     ]
    },
    {
     "cell_type": "markdown",
     "metadata": {},
     "source": [
      "The most straightforward way to write a Python program is to write your program in a text file, and run the program from the command line. If you have not already, you will do this during the Unix workshop.\n",
      "\n",
      "But for this workshop, we'll use a web-based Python environment so that we can try out bits of program code faster."
     ]
    },
    {
     "cell_type": "markdown",
     "metadata": {},
     "source": [
      "There are several options, and any of them are ok! Try out the below in order. As soon as you find one that works for you, you can stop - you've finished setup."
     ]
    },
    {
     "cell_type": "heading",
     "level": 3,
     "metadata": {},
     "source": [
      "IPython Notebook on your Laptop"
     ]
    },
    {
     "cell_type": "markdown",
     "metadata": {},
     "source": [
      "If you have Python installed on your laptop, and you are running Mac or Linux, you can open a terminal and type\n",
      "\n",
      "    ipython notebook\n",
      "\n",
      "If everything is installed, this will launch IPython Notebook in a web browser. Click \"New Notebook\", and you're done."
     ]
    },
    {
     "cell_type": "heading",
     "level": 3,
     "metadata": {},
     "source": [
      "IPython Notebook on your Research Cloud instance"
     ]
    },
    {
     "cell_type": "markdown",
     "metadata": {},
     "source": [
      "If you have a working Research Cloud instance, you can run IPython Notebook there. For this option you'll need to know the IP address and password of your instance. If you're on Windows, you'll also need Putty installed.\n",
      "\n",
      "If you're on Windows, to use ssh you'll need to run Putty and enter the address `researcher@<your-ip-address>` (where `<your-ip-address>` is replaced by the address of your instance), and connect.\n",
      "\n",
      "If you're on Mac or Linux you'll need to open a terminal and run\n",
      "\n",
      "    ssh researcher@<your-ip-address>\n",
      "\n",
      "(where `<your-ip-address>` is replaced by the address of your instance)."
     ]
    },
    {
     "cell_type": "markdown",
     "metadata": {},
     "source": [
      "Once you're logged in, run the following commands:\n",
      "\n",
      "    screen\n",
      "    ipython notebook --profile=nbserver"
     ]
    },
    {
     "cell_type": "markdown",
     "metadata": {},
     "source": [
      "You should now be able to use a web browser to navigate to `https://<your-ip-address>/ipython/`. Notice the `https`. You'll see a security warning, which you can ignore.\n",
      "\n",
      "Log in with the `researcher` password and click \"New Notebook\", and you're done."
     ]
    },
    {
     "cell_type": "heading",
     "level": 3,
     "metadata": {},
     "source": [
      "Wakari"
     ]
    },
    {
     "cell_type": "markdown",
     "metadata": {},
     "source": [
      "Wakari is a free web-based service which lets you run IPython Notebook.\n",
      "\n",
      "Use your browser to go to `https://wakari.io/`.\n",
      "\n",
      "Sign up to create an account. \n",
      "\n",
      "Once you are logged in, you will see IPython Notebook - from the menu choose **File** -> **New**, and you are done."
     ]
    }
   ],
   "metadata": {}
  }
 ]
}