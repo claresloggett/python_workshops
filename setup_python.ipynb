{
 "cells": [
  {
   "cell_type": "markdown",
   "metadata": {},
   "source": [
    "# Introductory Programming: Setup"
   ]
  },
  {
   "cell_type": "markdown",
   "metadata": {},
   "source": [
    "The most straightforward way to write a Python program is to write your program in a text file, and run the program from the command line. \n",
    "\n",
    "But for this workshop, we'll use a web-based Python environment called [Jupyter Notebook](http://jupyter.readthedocs.io) so that we can try out bits of program code faster."
   ]
  },
  {
   "cell_type": "markdown",
   "metadata": {},
   "source": [
    "You can either install Python on your own laptop, or use a server provided by your class."
   ]
  },
  {
   "cell_type": "markdown",
   "metadata": {},
   "source": [
    "### Python and Jupyter Notebook on your Laptop"
   ]
  },
  {
   "cell_type": "markdown",
   "metadata": {},
   "source": [
    "To install Python, we recommend using Anaconda: follow the instructions at https://www.continuum.io/downloads\n",
    "\n",
    "If you have Python installed on your laptop, and you are running Mac or Linux, you can open a terminal and type\n",
    "\n",
    "    jupyter notebook\n",
    "\n",
    "If everything is installed, this will launch Jupyter Notebook in a web browser. Click \"New Notebook\", and you're done."
   ]
  }
 ],
 "metadata": {
  "anaconda-cloud": {},
  "kernelspec": {
   "display_name": "Python [default]",
   "language": "python",
   "name": "python3"
  },
  "language_info": {
   "codemirror_mode": {
    "name": "ipython",
    "version": 3
   },
   "file_extension": ".py",
   "mimetype": "text/x-python",
   "name": "python",
   "nbconvert_exporter": "python",
   "pygments_lexer": "ipython3",
   "version": "3.6.1"
  },
  "toc": {
   "colors": {
    "hover_highlight": "#DAA520",
    "running_highlight": "#FF0000",
    "selected_highlight": "#FFD700"
   },
   "moveMenuLeft": true,
   "nav_menu": {
    "height": "66px",
    "width": "252px"
   },
   "navigate_menu": true,
   "number_sections": false,
   "sideBar": true,
   "threshold": 4,
   "toc_cell": false,
   "toc_section_display": "block",
   "toc_window_display": true
  }
 },
 "nbformat": 4,
 "nbformat_minor": 1
}
