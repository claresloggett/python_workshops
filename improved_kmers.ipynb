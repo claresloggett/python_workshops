{
 "metadata": {
  "name": "",
  "signature": "sha256:e7acc28b14769ee9db1a1d1eaed43d0d2ae314b2cdae855890ef5421f9d622d0"
 },
 "nbformat": 3,
 "nbformat_minor": 0,
 "worksheets": [
  {
   "cells": [
    {
     "cell_type": "heading",
     "level": 1,
     "metadata": {},
     "source": [
      "Pythonic python 2: k-mer counting"
     ]
    },
    {
     "cell_type": "markdown",
     "metadata": {},
     "source": [
      "This workshop is designed to introduce Python to bioinformaticians. It follows on from the introductory workshops on Python programming. In particular, we'll build on our solution to the [k-mer counting workshop](kmer_counting.html), and use the various language features we learn to improve our code."
     ]
    },
    {
     "cell_type": "heading",
     "level": 2,
     "metadata": {},
     "source": [
      "Getting help"
     ]
    },
    {
     "cell_type": "markdown",
     "metadata": {},
     "source": [
      "If you're using IPython, you can always use the built-in `help()` function or the `?` operator to see documentation on a function or type. For instance, `help(range)` or `?range` will give you documentation on the built-in `range()` function. \n",
      "\n",
      "You can try this while going through the below. If you want to get help on a Python keyword such as `for` or `if`, or on an operator, you'll need to make sure to put quotes around it, like `help(\"for\")` or `help(\"!=\")`."
     ]
    },
    {
     "cell_type": "heading",
     "level": 2,
     "metadata": {},
     "source": [
      "Setup"
     ]
    },
    {
     "cell_type": "markdown",
     "metadata": {},
     "source": [
      "In this workshop, we'll use Python 2. However, we'll use Python 3-style print statements and division operators, which will make our code more sensible, and pretty easy to move to Python 3 in the future. \n",
      "\n",
      "You don't need to worry about the details of this right now, but if you have not done so already, then before running anything else, run the following statement:"
     ]
    },
    {
     "cell_type": "code",
     "collapsed": false,
     "input": [
      "from __future__ import division, print_function"
     ],
     "language": "python",
     "metadata": {},
     "outputs": [],
     "prompt_number": 1
    },
    {
     "cell_type": "heading",
     "level": 2,
     "metadata": {},
     "source": [
      "K-mers"
     ]
    },
    {
     "cell_type": "markdown",
     "metadata": {},
     "source": [
      "The k-mers in a string are all the substrings of length `k`. So, given the string `\"ELEPHANT\"`, and k-mer length `k=4`, the k-mers are:\n",
      "    \n",
      "    ELEP\n",
      "    LEPH\n",
      "    EPHA\n",
      "    PHAN\n",
      "    HANT\n",
      "\n",
      "Finding all the k-mers in a set of DNA sequences is useful in several bioinformatics applications. One of the best known uses is to perform genome assembly by constructing a de Bruijn graph."
     ]
    },
    {
     "cell_type": "heading",
     "level": 2,
     "metadata": {},
     "source": [
      "K-mer counting: initial solution"
     ]
    },
    {
     "cell_type": "markdown",
     "metadata": {},
     "source": [
      "Let's start from a basic solution to the k-mer counting problem. If you've done the introductory workshop, you might have come up with a similar solution yourself. \n",
      "\n",
      "**Exercise:** If you have not already done so in the introductory workshop, try to solve this problem before you continue. Write a function called `count_kmers` which takes as input a string and an integer k, and returns a dictionary as output. The keys of the dictionary should be all the k-mers of length k that were seen, and the values should be the number of times each k-mer occurs in the string. Make sure to give your function a docstring! You'll be able to use your solution as the basis for the rest of the workshop. \n",
      "\n",
      "For example, your function should give the following result when called:\n",
      "~~~python\n",
      "count_kmers(\"GATGAT\",3)\n",
      "{'ATG': 1, 'GAT': 2, 'TGA': 1}\n",
      "~~~\n",
      "\n",
      "The solution is written below, so free to stop here and try to solve this, and to ask for help if you get stuck. Asking for hints is a much better way to develop your understanding than reading the solution.\n",
      "\n",
      "A couple of hints: you will need to understand string slicing to find the k-mers, and you will need to think about where the starting position of the last k-mer in the string is - this depends on the length of the string, which you can find with `len()`. Remember you can use help() to look at the documentation for built-in functions. You may also need to check whether a k-mer is already in the dictionary before you try to increment the count. \n",
      "\n",
      "**SPOILER ALERT:** If you are new to programming, and would like to do the novice workshop, you might want to do it before looking at the solution below!"
     ]
    },
    {
     "cell_type": "markdown",
     "metadata": {},
     "source": [
      "Here is one possible solution to the k-mer counting problem. The basic plan here is:\n",
      "\n",
      "* start with an empty dictionary to hold our results\n",
      "* find the length of the string L, and use L and k to work out how many k-mers there are in the string\n",
      "* loop over the starting positions of the k-mers\n",
      "* at each position, extract the k-mer by taking a slice of the string\n",
      "* if the k-mer is not already in the dictionary, add it with a count of 0\n",
      "* increment the count for this k-mer (if we just added it, it will now be 1)"
     ]
    },
    {
     "cell_type": "code",
     "collapsed": false,
     "input": [
      "def count_kmers(read, k):\n",
      "    \"\"\"\n",
      "    TBD: docstring\n",
      "    \"\"\"\n",
      "    # Calculate how many kmers of length k there are\n",
      "    num_kmers = len(read) - k + 1\n",
      "    # Start with an empty dictionary\n",
      "    counts = {}\n",
      "    # Loop over the kmer start positions\n",
      "    for i in range(num_kmers):\n",
      "        # Slice the string to get the kmer\n",
      "        kmer = read[i:i+k]\n",
      "        # Add the kmer to the dictionary if it's not there\n",
      "        if kmer not in counts:\n",
      "            counts[kmer] = 0\n",
      "        # Increment the count for this kmer\n",
      "        counts[kmer] += 1\n",
      "    # Return the final counts\n",
      "    return counts"
     ],
     "language": "python",
     "metadata": {},
     "outputs": [],
     "prompt_number": 1
    },
    {
     "cell_type": "markdown",
     "metadata": {},
     "source": [
      "We can now call our function by passing in a string and value for k:"
     ]
    },
    {
     "cell_type": "code",
     "collapsed": false,
     "input": [
      "count_kmers(\"GATGAT\",3)"
     ],
     "language": "python",
     "metadata": {},
     "outputs": [
      {
       "metadata": {},
       "output_type": "pyout",
       "prompt_number": 2,
       "text": [
        "{'ATG': 1, 'GAT': 2, 'TGA': 1}"
       ]
      }
     ],
     "prompt_number": 2
    },
    {
     "cell_type": "code",
     "collapsed": false,
     "input": [
      "count_kmers(\"GATGAT\",2)"
     ],
     "language": "python",
     "metadata": {},
     "outputs": [
      {
       "metadata": {},
       "output_type": "pyout",
       "prompt_number": 3,
       "text": [
        "{'AT': 2, 'GA': 2, 'TG': 1}"
       ]
      }
     ],
     "prompt_number": 3
    },
    {
     "cell_type": "code",
     "collapsed": false,
     "input": [
      "count_kmers(\"GATGAT\",5)"
     ],
     "language": "python",
     "metadata": {},
     "outputs": [
      {
       "metadata": {},
       "output_type": "pyout",
       "prompt_number": 5,
       "text": [
        "{'ATGAT': 1, 'GATGA': 1}"
       ]
      }
     ],
     "prompt_number": 5
    },
    {
     "cell_type": "markdown",
     "metadata": {},
     "source": [
      "**Exercise 1:** Type or paste this function into your own Notebook and check that it gives the same results as above.\n",
      "\n",
      "**Exercise 2:** Modify your `count_kmers()` function so that instead of taking a string, it takes in a list of strings (representing a set of reads) and counts the kmer totals across all of them together. You still only need to return one dictionary. So, for instance, your function should return the following result:\n",
      "~~~python\n",
      "count_kmers([\"GATGAT\", \"GATGAT\", \"CCGAT\"],3)\n",
      "{'CGA': 1, 'ATG': 2, 'CCG': 1, 'GAT': 5, 'TGA': 2}\n",
      "~~~"
     ]
    },
    {
     "cell_type": "heading",
     "level": 2,
     "metadata": {},
     "source": [
      "Reading and writing files"
     ]
    },
    {
     "cell_type": "markdown",
     "metadata": {},
     "source": [
      "If we want to count k-mers in real sequencing data, we'll be dealing with a lot of data. We can't type the strings in by hand! We need to know how to read in experimental data from a file. \n",
      "\n",
      "Here's an example file containing some sequence data: [example_reads.fastq](example_reads.fastq). Download this file to your computer by right-clicking it, and save it in the same directory you are running IPython Notebook from."
     ]
    },
    {
     "cell_type": "markdown",
     "metadata": {},
     "source": [
      "Firstly, you can see what files are present using `%ls`, a special IPython command. These commands, which start with `%`, are called \"magics\". `%ls` in IPython Notebook is the same as running `ls` from the command line, and will list all files in the directory. \n",
      "\n",
      "Try running this command now. The output you see will depend on the computer you're on. If you saved the example reads file to the directory you're running IPython Notebook in, you should see it listed."
     ]
    },
    {
     "cell_type": "code",
     "collapsed": false,
     "input": [
      "%ls"
     ],
     "language": "python",
     "metadata": {},
     "outputs": [
      {
       "output_type": "stream",
       "stream": "stdout",
       "text": [
        "LICENSE.md                  \u001b[34mimg\u001b[m\u001b[m/                        kmer_counting.html\r\n",
        "README.md                   improved_hammingdist.html   kmer_counting.ipynb\r\n",
        "TODO                        improved_hammingdist.ipynb  \u001b[34mold_base_img\u001b[m\u001b[m/\r\n",
        "\u001b[34mcss\u001b[m\u001b[m/                        improved_kmers.ipynb        quick_fundamentals.html\r\n",
        "extrabits.html              index.html                  quick_fundamentals.ipynb\r\n",
        "extrabits.ipynb             intermediate.html           setup_python.html\r\n",
        "gloss.html                  intermediate2.ipynb         setup_python.ipynb\r\n",
        "hammingdist.html            intermediate_old.ipynb\r\n",
        "hammingdist.ipynb           \u001b[34mjs\u001b[m\u001b[m/\r\n"
       ]
      }
     ],
     "prompt_number": 7
    },
    {
     "cell_type": "markdown",
     "metadata": {},
     "source": [
      "The most basic way to open a file for reading or writing is with the built-in `open()` command. This looks like\n",
      "\n",
      "~~~python\n",
      "file_handle = open(filename, mode)\n",
      "~~~\n",
      "\n",
      "where `mode` specifies how the file should be opened. Some important options for `mode` include `\"r\"` for reading and `\"w\"` for writing. \n",
      "\n",
      "When we've finished, we can close the file with\n",
      "\n",
      "~~~python\n",
      "file_handle.close()\n",
      "~~~\n",
      "\n",
      "If we open a file for writing that doesn't exist, it will be created. Let's try creating a new file and writing some text to it."
     ]
    },
    {
     "cell_type": "code",
     "collapsed": false,
     "input": [
      "notefile = open(\"notes.txt\", \"w\")"
     ],
     "language": "python",
     "metadata": {},
     "outputs": [],
     "prompt_number": 8
    },
    {
     "cell_type": "markdown",
     "metadata": {},
     "source": [
      "**Exercise:** Our file handle, `notefile`, is a variable which we use to access the file. What is the type of this variable?"
     ]
    },
    {
     "cell_type": "markdown",
     "metadata": {},
     "source": [
      "We can write text to the file with a command like"
     ]
    },
    {
     "cell_type": "code",
     "collapsed": false,
     "input": [
      "notefile.write(\"Hello world!\\nThis is a new line.\\n\")"
     ],
     "language": "python",
     "metadata": {},
     "outputs": [],
     "prompt_number": 11
    },
    {
     "cell_type": "markdown",
     "metadata": {},
     "source": [
      "Notice that we explicitly wrote in \"\\n\" as a newline. We could also write in a series of lines using `notefile.writelines()`.\n",
      "\n",
      "Once we've finished, we close the file with `.close()`."
     ]
    },
    {
     "cell_type": "code",
     "collapsed": false,
     "input": [
      "notefile.close()"
     ],
     "language": "python",
     "metadata": {},
     "outputs": [],
     "prompt_number": 12
    },
    {
     "cell_type": "markdown",
     "metadata": {},
     "source": [
      "Examine this file using a text editor, and you should see the new lines.\n",
      "\n",
      "Now let's try to read in our example data from `example_reads.fastq`. This file is in [FASTQ format](http://en.wikipedia.org/wiki/FASTQ_format), which is a very common way to receive data from NGS sequencing experiments. It represents a set of DNA sequences, or \"reads\".\n",
      "\n",
      "First, let's just read the lines and print them out."
     ]
    },
    {
     "cell_type": "code",
     "collapsed": false,
     "input": [
      "# Open the file for reading\n",
      "# Use b for \"binary\" mode, which is sometimes necessary on Windows\n",
      "fastq_filehandle = open(\"example_reads.fastq\", \"rb\")\n",
      "\n",
      "# Loop over each line in the file\n",
      "for row in fastq_filehandle:\n",
      "    # Use the built-in .strip() method to remove whitespace and newlines from the line\n",
      "    row = row.strip()\n",
      "    # Print it out\n",
      "    print(row)\n",
      "\n",
      "# Close the file\n",
      "fastq_filehandle.close()"
     ],
     "language": "python",
     "metadata": {},
     "outputs": [
      {
       "output_type": "stream",
       "stream": "stdout",
       "text": [
        "@HWUSI-EAS-100R_0001:7:1:1:701#TGACCA/1\n",
        "TCGTACCGTAAGGAACGGTGGACTGGATACGAGTGAGAATGTTGGCATCAGTAGCGCGATGTGGGTGAGAATCCCCCAG\n",
        "+\n",
        "abaabbbb_^__Y_W`_^U[\\_a`^^BaY`\\\\\\\\__Z[\\\\^[]ZW\\R[BBBBBBBBBBBBBBBBBBBBBBBBBBBBBBB\n",
        "@HWUSI-EAS-100R_0001:7:1:1:701#TGACCA/2\n",
        "GGCCTTAGGATTACACAATAACATACCTGTGTCGGTTTCAGTATAGTGCCATCCTTCTGTCTCTAGACACTCTTCCGTG\n",
        "+\n",
        "abbbbaBBBBBBBBBBBBBBBBBBBBBBBBBBBBBBBBBBBBBBBBBBBBBBBBBBBBBBBBBBBBBBBBBBBBBBBBB\n",
        "@HWUSI-EAS-100R_0001:7:1:1:1658#TGACCA/1\n",
        "TTGGGATATCGCCAAGCGGTAAGGCAACGGACTTTGACTCCGTCATTCGCAGGTTCGAATCCTGCTATCCCAGCCAAAA\n",
        "+\n",
        "a`_\\X_ababbbbaa_aa`[`_TZa``a]Z^aaa``\\_[_]X]`Y\\Y\\Q[TXLMT^XQLR^[OV[ZVZZ]YJDW\\MWJW\n",
        "@HWUSI-EAS-100R_0001:7:1:1:1658#TGACCA/2\n",
        "AAAAAAGCATCGACAAAAAAAATATGCTTGGTGCACGACATGTGTATCGAACCCTGGACACCCTGATTCAAAGCTAACT\n",
        "+\n",
        "abbbbbBBBBBBBBBBBBBBBBBBBBBBBBBBBBBBBBBBBBBBBBBBBBBBBBBBBBBBBBBBBBBBBBBBBBBBBBB\n",
        "@HWUSI-EAS-100R_0001:7:1:2:928#TGACCA/1\n",
        "CCCGAAGGGATTTCCTCGATTAAGAGTAATGCAAGGGATGTCAAGTGTAGGTAAGGTTCTTCGCGTTGCTTCGAATTAA\n",
        "+\n",
        "abbbZa``a`abaaba`aaaaaaYYVV``aaa^`a_^Y^ZV`][\\V_QJVQLYLXXLX_VWYSRABBBBBBBBBBBBBB\n"
       ]
      }
     ],
     "prompt_number": 14
    },
    {
     "cell_type": "markdown",
     "metadata": {},
     "source": [
      "This is FASTQ data. Each sequencing read is represented by four lines, and it looks like there are just five reads in our example file. Let's explain these four lines:\n",
      "\n",
      "    @HWUSI-EAS-100R_0001:7:1:1:701#TGACCA/1\n",
      "    TCGTACCGTAAGGAACGGTGGACTGGATACGAGTGAGAATGTTGGCATCAGTAGCGCGATGTGGGTGAGAATCCCCCAG\n",
      "    +\n",
      "    abaabbbb_^__Y_W`_^U[\\_a`^^BaY`\\\\\\\\__Z[\\\\^[]ZW\\R[BBBBBBBBBBBBBBBBBBBBBBBBBBBBBBB\n",
      "\n",
      "The first line, starting with `@`, is the name of the sequence. The second line is the DNA sequence itself, which is what we're interested in. The third line may repeat the read name, and the fourth line is the ascii-encoded quality scores showing how confident we are that the sequencing experiment gave the correct results. \n",
      "\n",
      "We will ignore the quality scores for our purposes, and just read in the DNA sequences. This means that out of every four lines, we'd like to just store the second. We'd like to end up with a list of five DNA sequence strings."
     ]
    },
    {
     "cell_type": "markdown",
     "metadata": {},
     "source": [
      "**Exercise:** Write a function called `read_all_rows()` which takes in a filename and produces a list of strings, one per row of the file. You can do this with a loop or, if you're feeling ambitious, a list comprehension. You should use `strip()` on every line to remove any whitespaces or newlines from the beginning and end of the line. \n",
      "\n",
      "*Note:* File handles have a method, `.readlines()`, which will read all rows from a file handle into a list. You can use this function if you want to, but it won't strip the newlines for you.\n",
      "\n",
      "If you're feeling really ambitious, try to work out how to store only every second row out of each four (i.e. only the DNA sequences). We'll show a way to do this in a moment."
     ]
    },
    {
     "cell_type": "markdown",
     "metadata": {},
     "source": [
      "If you've written a function to store all rows, you can use indexing to get the second row out of every four:"
     ]
    },
    {
     "cell_type": "code",
     "collapsed": false,
     "input": [
      "all_lines = read_all_rows(\"example_reads.fastq\")\n",
      "dna_strings = all_lines[1::4]"
     ],
     "language": "python",
     "metadata": {},
     "outputs": [],
     "prompt_number": 24
    },
    {
     "cell_type": "markdown",
     "metadata": {},
     "source": [
      "This is an indexing syntax we haven't looked at yet. Instead of just writing `all_lines[start:end]`, we've written `all_lines[start:end:stride]`. The *stride* tells Python how many list items to skip at each step. It means \"start at row 1, go to the end, taking every 4th row\".\n",
      "\n",
      "If this is confusing, don't worry about it too much at this point.\n",
      "\n",
      "`dna_strings` should now look like this:"
     ]
    },
    {
     "cell_type": "code",
     "collapsed": false,
     "input": [
      "dna_strings"
     ],
     "language": "python",
     "metadata": {},
     "outputs": [
      {
       "metadata": {},
       "output_type": "pyout",
       "prompt_number": 26,
       "text": [
        "['TCGTACCGTAAGGAACGGTGGACTGGATACGAGTGAGAATGTTGGCATCAGTAGCGCGATGTGGGTGAGAATCCCCCAG',\n",
        " 'GGCCTTAGGATTACACAATAACATACCTGTGTCGGTTTCAGTATAGTGCCATCCTTCTGTCTCTAGACACTCTTCCGTG',\n",
        " 'TTGGGATATCGCCAAGCGGTAAGGCAACGGACTTTGACTCCGTCATTCGCAGGTTCGAATCCTGCTATCCCAGCCAAAA',\n",
        " 'AAAAAAGCATCGACAAAAAAAATATGCTTGGTGCACGACATGTGTATCGAACCCTGGACACCCTGATTCAAAGCTAACT',\n",
        " 'CCCGAAGGGATTTCCTCGATTAAGAGTAATGCAAGGGATGTCAAGTGTAGGTAAGGTTCTTCGCGTTGCTTCGAATTAA']"
       ]
      }
     ],
     "prompt_number": 26
    },
    {
     "cell_type": "markdown",
     "metadata": {},
     "source": [
      "Note that reading in all the rows like this, and then picking out every fourth, is not a very memory-efficient solution, as we read all the rows into the variable `all_lines` even though we weren't interested in keeping most of them. Can you think of better approaches?"
     ]
    },
    {
     "cell_type": "heading",
     "level": 3,
     "metadata": {},
     "source": [
      "Counting real k-mers"
     ]
    },
    {
     "cell_type": "markdown",
     "metadata": {},
     "source": [
      "Now that we're able to read in lines from a FASTQ file, we can use this together with our `count_kmers()` function to count the k-mers in real NGS sequence data.\n",
      "\n",
      "**Exercise:** Write a function, `count_fastq_kmers()`, which takes a filename, reads in the DNA sequences, and counts the k-mers. It should return a dictionary of k-mer counts. This function allows you to analyse real sequencing data.\n",
      "\n",
      "You can test your function by downloading this file: [tiny_reads.fastq](tiny_reads.fastq) which should give the output\n",
      "~~~python\n",
      "count_fastq_kmers(\"tiny_reads.fastq\")\n",
      "{'CGA': 1, 'ATG': 2, 'CCG': 1, 'GAT': 5, 'TGA': 2}\n",
      "~~~"
     ]
    },
    {
     "cell_type": "code",
     "collapsed": false,
     "input": [
      "ngs_kmers = count_fastq_kmers(\"example_reads.fastq\")"
     ],
     "language": "python",
     "metadata": {},
     "outputs": []
    },
    {
     "cell_type": "markdown",
     "metadata": {},
     "source": [
      "`ngs_kmers` is now a dictionary of counts. Even with only five example sequences, using real NGS data means that there will be a lot of unique k-mers and our count dictionary is probably quite big."
     ]
    }
   ],
   "metadata": {}
  }
 ]
}