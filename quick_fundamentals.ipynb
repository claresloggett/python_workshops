{
 "cells": [
  {
   "cell_type": "markdown",
   "metadata": {},
   "source": [
    "# Python fundamentals"
   ]
  },
  {
   "cell_type": "markdown",
   "metadata": {},
   "source": [
    "**This is a quick summary of the materials in the [introductory workshops](index.html). It's intended for programmers learning Python, or as a recap. If you've just done the introductory workshops, you don't need to do this one.**\n",
    "\n",
    "In this section we'll run through the most important Python data structures, and some fundamental programming syntax like loops, conditionals and function definitions. This content will probably be covered too quickly if you are really new to programming - you might want to try the [introductory workshops](index.html) instead, which introduce most of the same concepts, with more explanation."
   ]
  },
  {
   "cell_type": "markdown",
   "metadata": {},
   "source": [
    "## Getting help"
   ]
  },
  {
   "cell_type": "markdown",
   "metadata": {},
   "source": [
    "If you're using Jupyter, you can always use the built-in `help()` function or the `?` operator to see documentation on a function or type. For instance, `help(range)` or `?range` will give you documentation on the built-in `range()` function. \n",
    "\n",
    "You can try this while going through the below. If you want to get help on a Python keyword such as `for` or `if`, or on an operator, you'll need to make sure to put quotes around it, like `help(\"for\")` or `help(\"!=\")`."
   ]
  },
  {
   "cell_type": "markdown",
   "metadata": {},
   "source": [
    "## Setup"
   ]
  },
  {
   "cell_type": "markdown",
   "metadata": {},
   "source": [
    "In this workshop, we'll use Python 2. However, we'll use Python 3-style print statements and division operators, which will make our code more sensible, and pretty easy to move to Python 3 in the future. \n",
    "\n",
    "You don't need to worry about the details of this right now, but, before running anything else, run the following statement:"
   ]
  },
  {
   "cell_type": "code",
   "execution_count": 1,
   "metadata": {},
   "outputs": [],
   "source": [
    "from __future__ import division, print_function"
   ]
  },
  {
   "cell_type": "markdown",
   "metadata": {},
   "source": [
    "## Data types and structures"
   ]
  },
  {
   "cell_type": "markdown",
   "metadata": {},
   "source": [
    "Values can be assigned to variables in Python like so:"
   ]
  },
  {
   "cell_type": "code",
   "execution_count": 2,
   "metadata": {},
   "outputs": [],
   "source": [
    "# Assign the value 5 to variable x\n",
    "x = 5"
   ]
  },
  {
   "cell_type": "code",
   "execution_count": 3,
   "metadata": {},
   "outputs": [
    {
     "name": "stdout",
     "output_type": "stream",
     "text": [
      "5\n"
     ]
    }
   ],
   "source": [
    "print(x)"
   ]
  },
  {
   "cell_type": "markdown",
   "metadata": {},
   "source": [
    "The line that starts with `#` is just a comment, which will be ignored by Python. "
   ]
  },
  {
   "cell_type": "markdown",
   "metadata": {},
   "source": [
    "You can check the type of a variable with the built-in `type()` function:"
   ]
  },
  {
   "cell_type": "code",
   "execution_count": 4,
   "metadata": {},
   "outputs": [
    {
     "name": "stdout",
     "output_type": "stream",
     "text": [
      "<type 'int'>\n"
     ]
    }
   ],
   "source": [
    "print( type(x) )"
   ]
  },
  {
   "cell_type": "markdown",
   "metadata": {},
   "source": [
    "In this case, x is an integer (a numeric type)."
   ]
  },
  {
   "cell_type": "markdown",
   "metadata": {},
   "source": [
    "Python is *dynamically typed*, which means we don't usually explicitly tell it what type our variables are. Instead the type just depends on what kind of data was assigned. "
   ]
  },
  {
   "cell_type": "markdown",
   "metadata": {},
   "source": [
    "Here we'll run through numeric types, strings, and some basic data structures like lists, tuples, sets and dictionaries. "
   ]
  },
  {
   "cell_type": "markdown",
   "metadata": {},
   "source": [
    "### Numbers"
   ]
  },
  {
   "cell_type": "markdown",
   "metadata": {},
   "source": [
    "Above, we saw that `x` was an integer, because we assigned the value `5`, which is a whole number. You are also likely to encounter floating-point numbers, which have a decimal part:"
   ]
  },
  {
   "cell_type": "code",
   "execution_count": 5,
   "metadata": {},
   "outputs": [],
   "source": [
    "x = 7.4"
   ]
  },
  {
   "cell_type": "code",
   "execution_count": 6,
   "metadata": {},
   "outputs": [
    {
     "data": {
      "text/plain": [
       "float"
      ]
     },
     "execution_count": 6,
     "metadata": {},
     "output_type": "execute_result"
    }
   ],
   "source": [
    "type(x)"
   ]
  },
  {
   "cell_type": "markdown",
   "metadata": {},
   "source": [
    "In general, adding a float to a float will produce another variable of type float, even if the answer has no decimal part:"
   ]
  },
  {
   "cell_type": "code",
   "execution_count": 7,
   "metadata": {},
   "outputs": [
    {
     "name": "stdout",
     "output_type": "stream",
     "text": [
      "10.0\n",
      "<type 'float'>\n"
     ]
    }
   ],
   "source": [
    "x = 7.4\n",
    "y = 2.6\n",
    "z = x + y\n",
    "print(z)\n",
    "print( type(z) )"
   ]
  },
  {
   "cell_type": "markdown",
   "metadata": {},
   "source": [
    "We can, however, convert this number into an integer with `int()`:"
   ]
  },
  {
   "cell_type": "code",
   "execution_count": 8,
   "metadata": {},
   "outputs": [
    {
     "name": "stdout",
     "output_type": "stream",
     "text": [
      "10\n",
      "<type 'int'>\n"
     ]
    }
   ],
   "source": [
    "z = int(z)\n",
    "print(z)\n",
    "print( type(z) )"
   ]
  },
  {
   "cell_type": "markdown",
   "metadata": {},
   "source": [
    "Other built-in numeric types are `long` and `complex`, which handle very large integers and complex numbers respectively."
   ]
  },
  {
   "cell_type": "markdown",
   "metadata": {},
   "source": [
    "**Exercise:** What happens if you use `int()` on a number like `7.3`? What happens if you use `float()` on a number like `10`? Try it and see."
   ]
  },
  {
   "cell_type": "markdown",
   "metadata": {},
   "source": [
    "### Strings, indexing, and slicing"
   ]
  },
  {
   "cell_type": "markdown",
   "metadata": {},
   "source": [
    "Strings in Python are written using quote characters, like so:"
   ]
  },
  {
   "cell_type": "code",
   "execution_count": 9,
   "metadata": {},
   "outputs": [],
   "source": [
    "x = \"GATTACA\""
   ]
  },
  {
   "cell_type": "code",
   "execution_count": 10,
   "metadata": {},
   "outputs": [
    {
     "name": "stdout",
     "output_type": "stream",
     "text": [
      "GATTACA\n"
     ]
    }
   ],
   "source": [
    "print(x)"
   ]
  },
  {
   "cell_type": "code",
   "execution_count": 11,
   "metadata": {},
   "outputs": [
    {
     "data": {
      "text/plain": [
       "str"
      ]
     },
     "execution_count": 11,
     "metadata": {},
     "output_type": "execute_result"
    }
   ],
   "source": [
    "type(x)"
   ]
  },
  {
   "cell_type": "markdown",
   "metadata": {},
   "source": [
    "Both single and double quotes are ok (\"GATTACA\" or 'GATTACA'), but the quote character at the end of the string must match the one at the start. Quote characters of the other type will be treated as just part of the string:"
   ]
  },
  {
   "cell_type": "code",
   "execution_count": 12,
   "metadata": {},
   "outputs": [
    {
     "data": {
      "text/plain": [
       "\"Apostrophes aren't a problem!\""
      ]
     },
     "execution_count": 12,
     "metadata": {},
     "output_type": "execute_result"
    }
   ],
   "source": [
    "\"Apostrophes aren't a problem!\""
   ]
  },
  {
   "cell_type": "markdown",
   "metadata": {},
   "source": [
    "There is also a triple-quote operator \"\"\" for creating multi-line strings. We'll talk about this later, as it's particularly useful for adding documentation to our programs."
   ]
  },
  {
   "cell_type": "markdown",
   "metadata": {},
   "source": [
    "Like `int()` and `float()`, we can try to convert something to a string with `str()`."
   ]
  },
  {
   "cell_type": "code",
   "execution_count": 13,
   "metadata": {},
   "outputs": [
    {
     "data": {
      "text/plain": [
       "'5'"
      ]
     },
     "execution_count": 13,
     "metadata": {},
     "output_type": "execute_result"
    }
   ],
   "source": [
    "number = 5\n",
    "str(number)"
   ]
  },
  {
   "cell_type": "markdown",
   "metadata": {},
   "source": [
    "Strings are considered a *sequence type* because they are made of a sequence of characters. We can access individual characters by *indexing* the string, which means using square brackets to specify the character. Indexing in Python starts from zero: the first character is at `0`, the second at `1`, etc."
   ]
  },
  {
   "cell_type": "code",
   "execution_count": 14,
   "metadata": {},
   "outputs": [],
   "source": [
    "x = \"elephant\""
   ]
  },
  {
   "cell_type": "code",
   "execution_count": 15,
   "metadata": {},
   "outputs": [
    {
     "name": "stdout",
     "output_type": "stream",
     "text": [
      "e\n",
      "p\n"
     ]
    }
   ],
   "source": [
    "# First and fourth characters\n",
    "print(x[0])\n",
    "print(x[3])"
   ]
  },
  {
   "cell_type": "markdown",
   "metadata": {},
   "source": [
    "Negative numbers count back from the end of the string:"
   ]
  },
  {
   "cell_type": "code",
   "execution_count": 16,
   "metadata": {},
   "outputs": [
    {
     "name": "stdout",
     "output_type": "stream",
     "text": [
      "t\n",
      "h\n"
     ]
    }
   ],
   "source": [
    "# Last and fourth-last charaters:\n",
    "print(x[-1])\n",
    "print(x[-4])"
   ]
  },
  {
   "cell_type": "markdown",
   "metadata": {},
   "source": [
    "We can also get multiple letters from a string at once using *slicing*. For instance, `s[2:4]` will give a *slice* of the string, starting at index `2` and going up to, but not including, index `4`. "
   ]
  },
  {
   "cell_type": "markdown",
   "metadata": {},
   "source": [
    "x[2:4]"
   ]
  },
  {
   "cell_type": "markdown",
   "metadata": {},
   "source": [
    "We can also leave one (or both) of the numbers out, to go all the way from the start, or all the way until the end of the string."
   ]
  },
  {
   "cell_type": "code",
   "execution_count": 17,
   "metadata": {},
   "outputs": [
    {
     "data": {
      "text/plain": [
       "'ephant'"
      ]
     },
     "execution_count": 17,
     "metadata": {},
     "output_type": "execute_result"
    }
   ],
   "source": [
    "# From the second character until the end of the string\n",
    "x[2:]"
   ]
  },
  {
   "cell_type": "markdown",
   "metadata": {},
   "source": [
    "Notice that since the `x[:4]` gives us the string until just *before* index `4`, and `x[4:]` gives us the string starting *at* index `4`, this actually splits the string into two parts with no overlaps or missing pieces."
   ]
  },
  {
   "cell_type": "code",
   "execution_count": 18,
   "metadata": {},
   "outputs": [
    {
     "name": "stdout",
     "output_type": "stream",
     "text": [
      "elep\n",
      "hant\n",
      "elephant\n"
     ]
    }
   ],
   "source": [
    "print( x[:4] )\n",
    "print( x[4:] )\n",
    "\n",
    "# Concatenate the strings\n",
    "print( x[:4] + x[4:] )"
   ]
  },
  {
   "cell_type": "markdown",
   "metadata": {},
   "source": [
    "### Lists and tuples"
   ]
  },
  {
   "cell_type": "markdown",
   "metadata": {},
   "source": [
    "*Lists* are ordered collections of values. They are similar to arrays in some other languages. They are written out like this, in square brackets `[]`, with items separated by commas:"
   ]
  },
  {
   "cell_type": "code",
   "execution_count": 19,
   "metadata": {},
   "outputs": [
    {
     "name": "stdout",
     "output_type": "stream",
     "text": [
      "[1, 3, 5, 7, 9, 11]\n"
     ]
    }
   ],
   "source": [
    "odd_numbers = [1, 3, 5, 7, 9, 11]\n",
    "print(odd_numbers)"
   ]
  },
  {
   "cell_type": "code",
   "execution_count": 20,
   "metadata": {},
   "outputs": [
    {
     "name": "stdout",
     "output_type": "stream",
     "text": [
      "['one', 'three', 'five', 'seven', 'nine', 'eleven']\n"
     ]
    }
   ],
   "source": [
    "odd_strings = [\"one\", \"three\", \"five\", \"seven\", \"nine\", \"eleven\"]\n",
    "print(odd_strings)"
   ]
  },
  {
   "cell_type": "markdown",
   "metadata": {},
   "source": [
    "Lists are a *sequence type*, just like strings. This means we can index and slice them."
   ]
  },
  {
   "cell_type": "code",
   "execution_count": 21,
   "metadata": {},
   "outputs": [
    {
     "data": {
      "text/plain": [
       "('one', 'five', 'eleven')"
      ]
     },
     "execution_count": 21,
     "metadata": {},
     "output_type": "execute_result"
    }
   ],
   "source": [
    "# First, third and last\n",
    "odd_strings[0], odd_strings[2], odd_strings[-1]"
   ]
  },
  {
   "cell_type": "code",
   "execution_count": 22,
   "metadata": {},
   "outputs": [
    {
     "data": {
      "text/plain": [
       "['one', 'three', 'five']"
      ]
     },
     "execution_count": 22,
     "metadata": {},
     "output_type": "execute_result"
    }
   ],
   "source": [
    "# First three items\n",
    "odd_strings[:3]"
   ]
  },
  {
   "cell_type": "markdown",
   "metadata": {},
   "source": [
    "There are a few functions in Python that are particularly useful for working with lists. The built-in Python function `len()` gives the length of a list (and of other types, including strings and tuples):"
   ]
  },
  {
   "cell_type": "code",
   "execution_count": 23,
   "metadata": {},
   "outputs": [
    {
     "data": {
      "text/plain": [
       "6"
      ]
     },
     "execution_count": 23,
     "metadata": {},
     "output_type": "execute_result"
    }
   ],
   "source": [
    "len(odd_strings)"
   ]
  },
  {
   "cell_type": "markdown",
   "metadata": {},
   "source": [
    "Try using the `len()` function on a string, and on a tuple, to check it does what you expect."
   ]
  },
  {
   "cell_type": "markdown",
   "metadata": {},
   "source": [
    "There are also special functions in Python which apply only to certain data types. These functions are called *methods* and are used by writing them after the variable name, with a dot, like `variable.function()`. For instance, lists have a method called `append()` which adds an item to the end of the list:"
   ]
  },
  {
   "cell_type": "code",
   "execution_count": 24,
   "metadata": {},
   "outputs": [],
   "source": [
    "odd_strings.append(\"thirteen\")"
   ]
  },
  {
   "cell_type": "code",
   "execution_count": 25,
   "metadata": {},
   "outputs": [
    {
     "data": {
      "text/plain": [
       "['one', 'three', 'five', 'seven', 'nine', 'eleven', 'thirteen']"
      ]
     },
     "execution_count": 25,
     "metadata": {},
     "output_type": "execute_result"
    }
   ],
   "source": [
    "odd_strings"
   ]
  },
  {
   "cell_type": "markdown",
   "metadata": {},
   "source": [
    "*Tuples* are a lot like lists, but they are *immutable*, which means you cannot alter them in-place: you cannot add or remove items from them. They are written with round instead of square brackets."
   ]
  },
  {
   "cell_type": "code",
   "execution_count": 26,
   "metadata": {},
   "outputs": [
    {
     "name": "stdout",
     "output_type": "stream",
     "text": [
      "(2, 4, 6)\n"
     ]
    }
   ],
   "source": [
    "even_numbers = (2,4,6)\n",
    "print(even_numbers)"
   ]
  },
  {
   "cell_type": "markdown",
   "metadata": {},
   "source": [
    "Tuples with only one value have a special syntax - they need a comma so that Python can tell we are writing a tuple and not just putting brackets around our code."
   ]
  },
  {
   "cell_type": "code",
   "execution_count": 27,
   "metadata": {},
   "outputs": [
    {
     "name": "stdout",
     "output_type": "stream",
     "text": [
      "(5,)\n"
     ]
    }
   ],
   "source": [
    "x = (5,)\n",
    "print(x)"
   ]
  },
  {
   "cell_type": "markdown",
   "metadata": {},
   "source": [
    "Lists are *mutable*, meaning items can be added or removed with methods like `.append()`, `.pop()` and `.remove()`. Strings and tuples are immutable. What happens if you try these methods on a string or a tuple?\n",
    "\n",
    "Although you can't alter strings or tuples directly, you can add a character or item by building a whole new string or tuple out of the old one."
   ]
  },
  {
   "cell_type": "code",
   "execution_count": 28,
   "metadata": {},
   "outputs": [
    {
     "name": "stdout",
     "output_type": "stream",
     "text": [
      "(2, 4, 6, 8)\n"
     ]
    }
   ],
   "source": [
    "even_numbers = even_numbers + (8,)\n",
    "print(even_numbers)"
   ]
  },
  {
   "cell_type": "markdown",
   "metadata": {},
   "source": [
    "This works, but can be slow to run because the entire original string (or tuple) is copied each time. If you need to write an algorithm that builds a sequence piece by piece, you should use lists for efficiency."
   ]
  },
  {
   "cell_type": "markdown",
   "metadata": {},
   "source": [
    "### Sets and dictionaries"
   ]
  },
  {
   "cell_type": "markdown",
   "metadata": {},
   "source": [
    "#### Sets"
   ]
  },
  {
   "cell_type": "markdown",
   "metadata": {},
   "source": [
    "Sets are a Python data type which, like lists, hold collections of values. The main differences between sets and lists are:\n",
    "\n",
    "- a set can only have **one** copy of each value at most: values must be unique\n",
    "- the values in a set are not in order - Python may return them in a random order each time!\n",
    "\n",
    "If you're familiar with sets as used in mathematics, Python's sets are actually quite similar, and can be used for set calculations by calling set methods like `.union()` and `.intersection()`."
   ]
  },
  {
   "cell_type": "markdown",
   "metadata": {},
   "source": [
    "We can create a set by passing a list into `set()`. Since sets only store unique items, only one  copy of each item in the list will be added to the set."
   ]
  },
  {
   "cell_type": "code",
   "execution_count": 29,
   "metadata": {},
   "outputs": [
    {
     "name": "stdout",
     "output_type": "stream",
     "text": [
      "set(['1', '3', '5', '7', '6'])\n"
     ]
    }
   ],
   "source": [
    "big_list = ['3', '7', '3', '3', '5', '3', '5', '1', '1', '7', '3', '5', '5',\n",
    "       '3', '5', '5', '5', '1', '7', '7', '1', '1', '7', '7', '3', '7',\n",
    "       '3', '5', '1', '5', '5', '3', '3', '5', '1', '1', '1', '1', '7',\n",
    "       '3', '7', '1', '5', '1', '7', '3', '5', '5', '6', '5', '7', '1',\n",
    "       '5', '1', '5', '1', '3', '7', '7', '5', '3', '1', '1', '5', '5',\n",
    "       '5', '1', '5', '1', '7', '3', '7', '1', '7', '5', '7', '1', '5',\n",
    "       '3', '5', '3', '5', '3', '5', '5', '1', '3', '5', '3', '7', '1',\n",
    "       '5', '7', '3', '1', '7', '5', '7', '7', '1']\n",
    "unique_values = set(big_list)\n",
    "print(unique_values)"
   ]
  },
  {
   "cell_type": "markdown",
   "metadata": {},
   "source": [
    "Values can be added to a set using the `.add()` method, and removed using `.remove()`. "
   ]
  },
  {
   "cell_type": "code",
   "execution_count": 30,
   "metadata": {},
   "outputs": [
    {
     "data": {
      "text/plain": [
       "{'1', '20', '3', '5', '6', '7'}"
      ]
     },
     "execution_count": 30,
     "metadata": {},
     "output_type": "execute_result"
    }
   ],
   "source": [
    "unique_values.add('20')\n",
    "unique_values"
   ]
  },
  {
   "cell_type": "markdown",
   "metadata": {},
   "source": [
    "Adding an item that is already in the set has no effect."
   ]
  },
  {
   "cell_type": "markdown",
   "metadata": {},
   "source": [
    "Notice that although sets are unordered, and you can't rely on the order in which items will be returned or printed, you can always sort them yourself using the built-in `sorted()` function, with a call such as `sorted(unique_values)`. `sorted()` can also be applied to sequence data types, like lists.\n",
    "\n",
    "**Exercise**: Try applying `sorted()` to various data types and see if it does what you expect. Look at the documentation for this function and see if you can sort in reverse order. "
   ]
  },
  {
   "cell_type": "markdown",
   "metadata": {},
   "source": [
    "#### Dictionaries"
   ]
  },
  {
   "cell_type": "markdown",
   "metadata": {},
   "source": [
    "*Dictionaries* are built-in Python data type for storing collections of values. They correspond to data types like maps or hashes in some other programming languages. Dictionaries are a bit like sets - they store unordered collections of items. But dictionaries store key-value pairs. \"Keys\" are used for indexing and must be unique. \"Values\" do not have to be unique.\n",
    "\n",
    "So, just like in sets, all keys in a dictionary must be unique - only one of each can be stored. Also like a set, the keys in a dictionary are stored in no particular order. \n",
    "\n",
    "Here's an example dictionary, which we define by using curly braces `{}`, and by putting a colon `:` between each key and its corresponding value. This dictionary stores some people's heights in centimetres."
   ]
  },
  {
   "cell_type": "code",
   "execution_count": 31,
   "metadata": {},
   "outputs": [
    {
     "name": "stdout",
     "output_type": "stream",
     "text": [
      "{'Fiona': 167, 'Quentin': 167, 'Sam': 201}\n"
     ]
    }
   ],
   "source": [
    "heights = {\"Sam\":201, \"Fiona\":167, \"Quentin\":167}\n",
    "print(heights)"
   ]
  },
  {
   "cell_type": "markdown",
   "metadata": {},
   "source": [
    "We can retrieve a value from a dictionary using its key. We use square brackets `[]`, just like getting an item from a list."
   ]
  },
  {
   "cell_type": "code",
   "execution_count": 32,
   "metadata": {},
   "outputs": [
    {
     "name": "stdout",
     "output_type": "stream",
     "text": [
      "201\n"
     ]
    }
   ],
   "source": [
    "print(heights[\"Sam\"])"
   ]
  },
  {
   "cell_type": "markdown",
   "metadata": {},
   "source": [
    "We can assign a value to the dictionary using indexing and the assignment operator `=`, like so:"
   ]
  },
  {
   "cell_type": "code",
   "execution_count": 33,
   "metadata": {},
   "outputs": [
    {
     "name": "stdout",
     "output_type": "stream",
     "text": [
      "{'Fiona': 167, 'Quentin': 167, 'Mary': 180, 'Sam': 201}\n"
     ]
    }
   ],
   "source": [
    "heights[\"Mary\"] = 180\n",
    "print(heights)"
   ]
  },
  {
   "cell_type": "markdown",
   "metadata": {},
   "source": [
    "**Exercise:** What happens if you try to index a dictionary with a key that is not in it? What happens if you assign an value to the dictionary but the key already exists?"
   ]
  },
  {
   "cell_type": "markdown",
   "metadata": {},
   "source": [
    "We can explicitly check to see if a key is in the dictionary or not using the Python operator `in`, which returns `True` or `False`:"
   ]
  },
  {
   "cell_type": "code",
   "execution_count": 34,
   "metadata": {},
   "outputs": [
    {
     "data": {
      "text/plain": [
       "True"
      ]
     },
     "execution_count": 34,
     "metadata": {},
     "output_type": "execute_result"
    }
   ],
   "source": [
    "\"Mary\" in heights"
   ]
  },
  {
   "cell_type": "code",
   "execution_count": 35,
   "metadata": {},
   "outputs": [
    {
     "data": {
      "text/plain": [
       "False"
      ]
     },
     "execution_count": 35,
     "metadata": {},
     "output_type": "execute_result"
    }
   ],
   "source": [
    "\"Jason\" in heights"
   ]
  },
  {
   "cell_type": "code",
   "execution_count": 36,
   "metadata": {},
   "outputs": [
    {
     "data": {
      "text/plain": [
       "False"
      ]
     },
     "execution_count": 36,
     "metadata": {},
     "output_type": "execute_result"
    }
   ],
   "source": [
    "# This is the same as: not (\"Mary\" in heights)\n",
    "\"Mary\" not in heights"
   ]
  },
  {
   "cell_type": "markdown",
   "metadata": {},
   "source": [
    "Dictionaries have several useful methods: two of the most important are `.keys()` and `.values()`, which return lists."
   ]
  },
  {
   "cell_type": "code",
   "execution_count": 37,
   "metadata": {},
   "outputs": [
    {
     "data": {
      "text/plain": [
       "['Fiona', 'Quentin', 'Mary', 'Sam']"
      ]
     },
     "execution_count": 37,
     "metadata": {},
     "output_type": "execute_result"
    }
   ],
   "source": [
    "heights.keys()"
   ]
  },
  {
   "cell_type": "code",
   "execution_count": 38,
   "metadata": {},
   "outputs": [
    {
     "data": {
      "text/plain": [
       "[167, 167, 180, 201]"
      ]
     },
     "execution_count": 38,
     "metadata": {},
     "output_type": "execute_result"
    }
   ],
   "source": [
    "heights.values()"
   ]
  },
  {
   "cell_type": "markdown",
   "metadata": {},
   "source": [
    "Remember that these lists are not guaranteed to be in the same order!"
   ]
  },
  {
   "cell_type": "markdown",
   "metadata": {},
   "source": [
    "**Dictionaries: algorithmic considerations**\n",
    "\n",
    "In fact, dictionaries (and sets) are an implementation of [hash tables](http://en.wikipedia.org/wiki/Hash_table), and work by carrying out a hash function on the keys to decide where to store them in the computer's memory. This means that dictionaries are very fast at retrieving information. Even if you have a very large dictionary, finding an item in it using a key takes a roughly constant amount of time that does not grow with the size of the dictionary - the performance of the algorithm is approximately O(1). \n",
    "\n",
    "This also means that the keys of a dictionary must be *immutable* types, because if the key is altered in-place, its expected location in memory will become wrong. So, lists can't be used as dictionary keys - you will get an error if you try. But tuples, strings, and numbers all can. \n",
    "\n",
    "There is no problem, however, using a mutable type like a list as a dictionary *value*:"
   ]
  },
  {
   "cell_type": "code",
   "execution_count": 39,
   "metadata": {},
   "outputs": [
    {
     "name": "stdout",
     "output_type": "stream",
     "text": [
      "{100: [2, 2, 5, 5], 12: [3, 4], 9: [3, 3]}\n"
     ]
    }
   ],
   "source": [
    "prime_factors = {12: [3,4],\n",
    "                 100: [2,2,5,5],\n",
    "                 9: [3,3]}\n",
    "print(prime_factors)"
   ]
  },
  {
   "cell_type": "markdown",
   "metadata": {},
   "source": [
    "### Other data types"
   ]
  },
  {
   "cell_type": "markdown",
   "metadata": {},
   "source": [
    "There are other standard data types in Python which we won't have time to cover here. For your reference, a few more important ones are:\n",
    "\n",
    "- Booleans (True and False): These we'll cover below, when we talk about conditionals.\n",
    "- File objects: These represent open files and are returned when we open a file for reading or writing, e.g. `f = open(\"myfile.txt\")`\n",
    "- Class instances: These are used in object-oriented programming when we define our own classes, which can act like custom data types.\n",
    "- Exceptions: These types are used for reporting errors. We'll look at them in a later section."
   ]
  },
  {
   "cell_type": "markdown",
   "metadata": {},
   "source": [
    "## Loops"
   ]
  },
  {
   "cell_type": "markdown",
   "metadata": {},
   "source": [
    "Once we have some data we often want to be able to loop over it to perform the same operation repeatedly. A for loop in Python takes the general form\n",
    "\n",
    "~~~python\n",
    "for item in list:\n",
    "    do_something\n",
    "~~~"
   ]
  },
  {
   "cell_type": "markdown",
   "metadata": {},
   "source": [
    "For instance, given our list of odd numbers:"
   ]
  },
  {
   "cell_type": "code",
   "execution_count": 40,
   "metadata": {},
   "outputs": [
    {
     "name": "stdout",
     "output_type": "stream",
     "text": [
      "1\n",
      "2\n",
      "3\n",
      "6\n",
      "5\n",
      "10\n",
      "7\n",
      "14\n",
      "9\n",
      "18\n",
      "11\n",
      "22\n"
     ]
    }
   ],
   "source": [
    "for num in odd_numbers:\n",
    "    print(num)\n",
    "    print(2*num)"
   ]
  },
  {
   "cell_type": "markdown",
   "metadata": {},
   "source": [
    "There are two things to notice here, which might be surprising if you're used to other programming languages:\n",
    "\n",
    "**Whitespace is important!** There are no brackets or braces around the loop, but everything inside the loop is indented. Python will treat the next non-indented line as being the end of the for loop. Whitespace is important in Python generally; we will also use it to define conditionals and functions. Also notice the colon (`:`) at the end of the for statement itself; this is also used in conditionals and function definitions.\n",
    "\n",
    "Since whitespace matters in Python, you have to be careful about your indentation, but it also makes programs very readable. It's a good idea to stick to spaces only when writing Python, and avoid tabs. This is because it's difficult for a human programmer to tell the difference between a tab and a set of spaces, so mixing the two can lead to some very confusing bugs.\n",
    "\n",
    "**We loop over a list** (or some other kind of iterable object), and assign the loop variable to each list item in turn. This is in contrast to some languages, like C or Java, that use a condition and an increment operator to create a loop.\n",
    "\n",
    "We can loop over any kind of list - it doesn't have to be numbers:"
   ]
  },
  {
   "cell_type": "code",
   "execution_count": 41,
   "metadata": {},
   "outputs": [
    {
     "name": "stdout",
     "output_type": "stream",
     "text": [
      "one\n",
      "three\n",
      "five\n",
      "seven\n",
      "nine\n",
      "eleven\n",
      "thirteen\n"
     ]
    }
   ],
   "source": [
    "for num in odd_strings:\n",
    "    print(num)"
   ]
  },
  {
   "cell_type": "markdown",
   "metadata": {},
   "source": [
    "Sometimes, we *do* want to do C-style for loops, and loop over numbers up to some maximum value. We don't want to have to type the whole list of numbers out by hand. Quite a common pattern is to use Python's built-in `range()` function to generate the list of numbers to loop over:"
   ]
  },
  {
   "cell_type": "code",
   "execution_count": 42,
   "metadata": {},
   "outputs": [
    {
     "data": {
      "text/plain": [
       "[0, 1, 2, 3, 4, 5]"
      ]
     },
     "execution_count": 42,
     "metadata": {},
     "output_type": "execute_result"
    }
   ],
   "source": [
    "range(6)"
   ]
  },
  {
   "cell_type": "markdown",
   "metadata": {},
   "source": [
    "For instance, let's use `range()` to simultaneously look at each element of `odd_numbers` and `odd_strings`:"
   ]
  },
  {
   "cell_type": "code",
   "execution_count": 43,
   "metadata": {},
   "outputs": [
    {
     "name": "stdout",
     "output_type": "stream",
     "text": [
      "0 1 one\n",
      "1 3 three\n",
      "2 5 five\n",
      "3 7 seven\n",
      "4 9 nine\n",
      "5 11 eleven\n"
     ]
    }
   ],
   "source": [
    "# How long is the list?\n",
    "L = len(odd_numbers)\n",
    "# Now loop over all the index values\n",
    "for i in range(L):\n",
    "    print(i,odd_numbers[i],odd_strings[i])"
   ]
  },
  {
   "cell_type": "markdown",
   "metadata": {},
   "source": [
    "`range()` is able to generate more sophisticated sequences, with different starting points and step sizes. Use `help(range)` to see the documentation.\n",
    "\n",
    "**Exercise:** Write a loop that prints out every *second* number in `odd_numbers`."
   ]
  },
  {
   "cell_type": "markdown",
   "metadata": {},
   "source": [
    "## Conditionals"
   ]
  },
  {
   "cell_type": "markdown",
   "metadata": {},
   "source": [
    "The other standard thing we need to know how to do in Python is conditionals, or if/then/else statements. In Python the basic syntax is:\n",
    "\n",
    "~~~python\n",
    "if condition:\n",
    "    do_something\n",
    "~~~\n",
    "\n",
    "For instance:"
   ]
  },
  {
   "cell_type": "code",
   "execution_count": 44,
   "metadata": {},
   "outputs": [
    {
     "name": "stdout",
     "output_type": "stream",
     "text": [
      "num is greater than 100\n"
     ]
    }
   ],
   "source": [
    "num = 220\n",
    "\n",
    "if num > 100:\n",
    "    print('num is greater than 100')\n",
    "\n",
    "if num > 300:\n",
    "    print('num is greater than 300')"
   ]
  },
  {
   "cell_type": "markdown",
   "metadata": {},
   "source": [
    "Since `num` is not greater than 300, the code in that conditional block was not executed at all."
   ]
  },
  {
   "cell_type": "markdown",
   "metadata": {},
   "source": [
    "Each condition, like `num > 100`, is an expression which evaluates to `True` or `False`. We can assign this boolean value to a variable, or write it out directly:"
   ]
  },
  {
   "cell_type": "code",
   "execution_count": 45,
   "metadata": {},
   "outputs": [
    {
     "name": "stdout",
     "output_type": "stream",
     "text": [
      "True\n"
     ]
    }
   ],
   "source": [
    "print(num > 100)"
   ]
  },
  {
   "cell_type": "markdown",
   "metadata": {},
   "source": [
    "Here we've used the logical operator `>`, which means \"greater than\". We can also use `==` for equality, `<=` for less than or equal to, `>=` for greater than or equal to, and `!=` for not equal to.\n",
    "\n",
    "It's important to notice that the operator for comparing two things (`==`) is different to the operator for assigning a value to a variable (`=`)."
   ]
  },
  {
   "cell_type": "markdown",
   "metadata": {},
   "source": [
    "We can also use the boolean operators `and`, `or` and `not` operator on conditionals:"
   ]
  },
  {
   "cell_type": "code",
   "execution_count": 46,
   "metadata": {},
   "outputs": [
    {
     "data": {
      "text/plain": [
       "False"
      ]
     },
     "execution_count": 46,
     "metadata": {},
     "output_type": "execute_result"
    }
   ],
   "source": [
    "True and False"
   ]
  },
  {
   "cell_type": "code",
   "execution_count": 47,
   "metadata": {},
   "outputs": [
    {
     "data": {
      "text/plain": [
       "True"
      ]
     },
     "execution_count": 47,
     "metadata": {},
     "output_type": "execute_result"
    }
   ],
   "source": [
    "True or False"
   ]
  },
  {
   "cell_type": "code",
   "execution_count": 48,
   "metadata": {},
   "outputs": [
    {
     "data": {
      "text/plain": [
       "False"
      ]
     },
     "execution_count": 48,
     "metadata": {},
     "output_type": "execute_result"
    }
   ],
   "source": [
    "not True"
   ]
  },
  {
   "cell_type": "code",
   "execution_count": 49,
   "metadata": {},
   "outputs": [
    {
     "data": {
      "text/plain": [
       "True"
      ]
     },
     "execution_count": 49,
     "metadata": {},
     "output_type": "execute_result"
    }
   ],
   "source": [
    "(num > 100) and (num < 300)"
   ]
  },
  {
   "cell_type": "code",
   "execution_count": 50,
   "metadata": {},
   "outputs": [
    {
     "data": {
      "text/plain": [
       "False"
      ]
     },
     "execution_count": 50,
     "metadata": {},
     "output_type": "execute_result"
    }
   ],
   "source": [
    "not (num > 100)"
   ]
  },
  {
   "cell_type": "markdown",
   "metadata": {},
   "source": [
    "The more extended syntax for conditionals is:\n",
    "\n",
    "~~~python\n",
    "if condition:\n",
    "    do_something\n",
    "elif another_condition:\n",
    "    do_something_else\n",
    "elif a_third_condition:\n",
    "    do_the_other_thing\n",
    "else:\n",
    "    do_something_completely_different\n",
    "~~~\n",
    "\n",
    "where we can have any number of `elif` statements (including zero). `elif` stands for \"else if\". Only one of the blocks in an `if` statement like the above will be executed. The `elif` and `else` conditions will only be considered if none of the earlier conditions has succeeded; the whole `if` statement is over as soon as one of the conditions evaluates to `True`. For instance:"
   ]
  },
  {
   "cell_type": "code",
   "execution_count": 51,
   "metadata": {},
   "outputs": [
    {
     "name": "stdout",
     "output_type": "stream",
     "text": [
      "num is more than 200\n"
     ]
    }
   ],
   "source": [
    "num = 220\n",
    "if num > 500:\n",
    "    print(\"num is more than 500\")\n",
    "elif num > 200:\n",
    "    print(\"num is more than 200\")\n",
    "elif num > 100:\n",
    "    print(\"num is more than 100\")\n",
    "else:\n",
    "    print(\"num is LESS than 100\")"
   ]
  },
  {
   "cell_type": "markdown",
   "metadata": {},
   "source": [
    "## Functions"
   ]
  },
  {
   "cell_type": "markdown",
   "metadata": {},
   "source": [
    "Functions in Python take the general form\n",
    "\n",
    "~~~python\n",
    "def function_name(inputs):\n",
    "    do stuff\n",
    "    return output\n",
    "~~~\n",
    "\n",
    "For instance, here is a function that just multiplies a value by 2:"
   ]
  },
  {
   "cell_type": "code",
   "execution_count": 52,
   "metadata": {},
   "outputs": [],
   "source": [
    "def double(x):\n",
    "    return 2*x"
   ]
  },
  {
   "cell_type": "markdown",
   "metadata": {},
   "source": [
    "We can call our function like"
   ]
  },
  {
   "cell_type": "code",
   "execution_count": 53,
   "metadata": {},
   "outputs": [
    {
     "data": {
      "text/plain": [
       "14.6"
      ]
     },
     "execution_count": 53,
     "metadata": {},
     "output_type": "execute_result"
    }
   ],
   "source": [
    "double(7.3)"
   ]
  },
  {
   "cell_type": "code",
   "execution_count": 54,
   "metadata": {},
   "outputs": [
    {
     "name": "stdout",
     "output_type": "stream",
     "text": [
      "20\n"
     ]
    }
   ],
   "source": [
    "twice_ten = double(10)\n",
    "print(twice_ten)"
   ]
  },
  {
   "cell_type": "markdown",
   "metadata": {},
   "source": [
    "Notice that since Python functions don't specify the types of their inputs, we can try to pass in values other than numbers and Python will execute the code (if it can)! Sometimes, this may lead to a surprising result:"
   ]
  },
  {
   "cell_type": "code",
   "execution_count": 55,
   "metadata": {},
   "outputs": [
    {
     "data": {
      "text/plain": [
       "'this is a stringthis is a string'"
      ]
     },
     "execution_count": 55,
     "metadata": {},
     "output_type": "execute_result"
    }
   ],
   "source": [
    "double(\"this is a string\")"
   ]
  },
  {
   "cell_type": "markdown",
   "metadata": {},
   "source": [
    "## Challenge"
   ]
  },
  {
   "cell_type": "markdown",
   "metadata": {},
   "source": [
    "If you are new to Python, or are doing this quick introduction instead of the novice lessons, a good way to try putting the above together is to go on to the [next workshop](improved_hammingdist.html) and start by implementing the basic Hamming distance function for yourself, without reading the solution. \n",
    "\n",
    "The solution to this basic problem is also written in the workshop, so feel free to ask for help if you get stuck, rather than reading on too far - asking for hints is a much better way to develop your understanding than reading the solution."
   ]
  }
 ],
 "metadata": {
  "anaconda-cloud": {},
  "kernelspec": {
   "display_name": "Python [default]",
   "language": "python",
   "name": "python3"
  },
  "language_info": {
   "codemirror_mode": {
    "name": "ipython",
    "version": 3
   },
   "file_extension": ".py",
   "mimetype": "text/x-python",
   "name": "python",
   "nbconvert_exporter": "python",
   "pygments_lexer": "ipython3",
   "version": "3.6.1"
  },
  "toc": {
   "colors": {
    "hover_highlight": "#DAA520",
    "running_highlight": "#FF0000",
    "selected_highlight": "#FFD700"
   },
   "moveMenuLeft": true,
   "nav_menu": {
    "height": "282px",
    "width": "252px"
   },
   "navigate_menu": true,
   "number_sections": true,
   "sideBar": true,
   "threshold": 4,
   "toc_cell": false,
   "toc_section_display": "block",
   "toc_window_display": true
  }
 },
 "nbformat": 4,
 "nbformat_minor": 1
}
