{
 "cells": [
  {
   "cell_type": "markdown",
   "metadata": {},
   "source": [
    "# Introduction to Programming: more stuff!"
   ]
  },
  {
   "cell_type": "markdown",
   "metadata": {},
   "source": [
    "In the last section, we learned the most fundamental programming concepts, like loops and conditionals. This was enough to let us solve the Hamming distance problem. However we missed some very useful concepts worth going over."
   ]
  },
  {
   "cell_type": "markdown",
   "metadata": {},
   "source": [
    "## Libraries"
   ]
  },
  {
   "cell_type": "markdown",
   "metadata": {},
   "source": [
    "In solving our Hamming distance problem, we used some pre-existing functions like `range` and `len`. But we only used built-in Python functions. This is actually quite unusual - a lot of the time when solving a problem, we'll want to reuse code that other people have already written but which is not a default part of Python."
   ]
  },
  {
   "cell_type": "markdown",
   "metadata": {},
   "source": [
    "This is done with *libraries*, also called Python *packages* or *modules*. To load a library into Python, use the `import` command.\n",
    "\n",
    "Here's a library called `requests`, which is used to read web pages. We could write our own function to connect to a website and read a webpage, but it would be a lot of work. Instead, import `requests`:"
   ]
  },
  {
   "cell_type": "code",
   "execution_count": 1,
   "metadata": {
    "ExecuteTime": {
     "end_time": "2017-07-23T23:51:14.033821Z",
     "start_time": "2017-07-23T23:51:13.703034Z"
    }
   },
   "outputs": [],
   "source": [
    "import requests"
   ]
  },
  {
   "cell_type": "markdown",
   "metadata": {},
   "source": [
    "Now all the functions in the `requests` library will work. We can ask `requests`' `get()` function to retrieve a web page for us. It will get the source code (the HTML) for the page we ask for."
   ]
  },
  {
   "cell_type": "code",
   "execution_count": 2,
   "metadata": {
    "collapsed": true
   },
   "outputs": [],
   "source": [
    "webpage = requests.get(\"http://unimelb.edu.au/\")\n",
    "print(webpage.text)"
   ]
  },
  {
   "cell_type": "markdown",
   "metadata": {},
   "source": [
    "We won't show the output of the above command as it's very long - try running it yourself!"
   ]
  },
  {
   "cell_type": "markdown",
   "metadata": {},
   "source": [
    "There are a lot of libraries out there, far too many to know them all. You'll generally learn about them as you need them."
   ]
  },
  {
   "cell_type": "markdown",
   "metadata": {},
   "source": [
    "One important set of Python libraries for scientists are `scipy` and `numpy`. \n",
    "\n",
    "- `numpy` provides many functions for efficiently working with matrices, vectors, random numbers, etc.\n",
    "- `scipy` has many parts, including functions for statistics and machine learning.\n",
    "\n",
    "Let's look at an example:"
   ]
  },
  {
   "cell_type": "code",
   "execution_count": 4,
   "metadata": {},
   "outputs": [],
   "source": [
    "import numpy"
   ]
  },
  {
   "cell_type": "code",
   "execution_count": 5,
   "metadata": {},
   "outputs": [
    {
     "name": "stdout",
     "output_type": "stream",
     "text": [
      "[ 0.83575465 -0.38725235 -1.85253931 -0.18169539 -1.63805177  1.2733453\n",
      " -1.58089026 -1.02711677 -0.90158365  0.06021346]\n"
     ]
    }
   ],
   "source": [
    "# 10 random numbers from the normal distribution\n",
    "x = numpy.random.randn(10)\n",
    "print(x)"
   ]
  },
  {
   "cell_type": "markdown",
   "metadata": {},
   "source": [
    "Libraries sometimes define their own data types. In this case the `randn()` function has returned a numpy array, which we can see with the `type()` function:"
   ]
  },
  {
   "cell_type": "code",
   "execution_count": 6,
   "metadata": {},
   "outputs": [
    {
     "name": "stdout",
     "output_type": "stream",
     "text": [
      "<type 'numpy.ndarray'>\n"
     ]
    }
   ],
   "source": [
    "print(type(x))"
   ]
  }
 ],
 "metadata": {
  "anaconda-cloud": {},
  "kernelspec": {
   "display_name": "Python [default]",
   "language": "python",
   "name": "python3"
  },
  "language_info": {
   "codemirror_mode": {
    "name": "ipython",
    "version": 3
   },
   "file_extension": ".py",
   "mimetype": "text/x-python",
   "name": "python",
   "nbconvert_exporter": "python",
   "pygments_lexer": "ipython3",
   "version": "3.6.1"
  },
  "toc": {
   "colors": {
    "hover_highlight": "#DAA520",
    "running_highlight": "#FF0000",
    "selected_highlight": "#FFD700"
   },
   "moveMenuLeft": true,
   "nav_menu": {
    "height": "48px",
    "width": "252px"
   },
   "navigate_menu": true,
   "number_sections": true,
   "sideBar": true,
   "threshold": 4,
   "toc_cell": false,
   "toc_section_display": "block",
   "toc_window_display": true
  }
 },
 "nbformat": 4,
 "nbformat_minor": 1
}
