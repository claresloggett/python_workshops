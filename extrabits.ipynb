{
 "metadata": {
  "name": "",
  "signature": "sha256:78a305176c74249337cd918f2e08837b8d314de1f5c87f277d3fbc6da174be32"
 },
 "nbformat": 3,
 "nbformat_minor": 0,
 "worksheets": [
  {
   "cells": [
    {
     "cell_type": "heading",
     "level": 1,
     "metadata": {},
     "source": [
      "Introduction to Programming: more stuff!"
     ]
    },
    {
     "cell_type": "markdown",
     "metadata": {},
     "source": [
      "In the last section, we learned the most fundamental programming concepts, like loops and conditionals. This was enough to let us solve the Hamming distance problem. However we missed some very useful concepts worth going over."
     ]
    },
    {
     "cell_type": "heading",
     "level": 2,
     "metadata": {},
     "source": [
      "Libraries"
     ]
    },
    {
     "cell_type": "markdown",
     "metadata": {},
     "source": [
      "In solving our Hamming distance problem, we used some pre-existing functions like `range` and `len`. But we only used built-in Python functions. This is actually quite unusual - a lot of the time when solving a problem, we'll want to reuse code that other people have already written but which is not a default part of Python."
     ]
    },
    {
     "cell_type": "markdown",
     "metadata": {},
     "source": [
      "This is done with *libraries*, also called Python *packages* or *modules*. To load a library into Python, use the `import` command.\n",
      "\n",
      "Here's a library called `requests`, which is used to read web pages. We could write our own function to connect to a website and read a webpage, but it would be a lot of work. Instead, import `requests`:"
     ]
    },
    {
     "cell_type": "code",
     "collapsed": false,
     "input": [
      "import requests"
     ],
     "language": "python",
     "metadata": {},
     "outputs": [],
     "prompt_number": 1
    },
    {
     "cell_type": "markdown",
     "metadata": {},
     "source": [
      "Now all the functions in the `requests` library will work. We can ask `requests`' `get()` function to retrieve a web page for us. It will get the source code (the HTML) for the page we ask for."
     ]
    },
    {
     "cell_type": "code",
     "collapsed": true,
     "input": [
      "webpage = requests.get(\"http://unimelb.edu.au/\")\n",
      "print webpage.text"
     ],
     "language": "python",
     "metadata": {},
     "outputs": [],
     "prompt_number": 2
    },
    {
     "cell_type": "markdown",
     "metadata": {},
     "source": [
      "We won't show the output of the above command as it's very long - try running it yourself!"
     ]
    },
    {
     "cell_type": "markdown",
     "metadata": {},
     "source": [
      "There are a lot of libraries out there, far too many to know them all. You'll generally learn about them as you need them."
     ]
    },
    {
     "cell_type": "markdown",
     "metadata": {},
     "source": [
      "One important set of Python libraries for scientists are `scipy` and `numpy`. \n",
      "\n",
      "- `numpy` provides many functions for efficiently working with matrices, vectors, random numbers, etc.\n",
      "- `scipy` has many parts, including functions for statistics and machine learning.\n",
      "\n",
      "Let's look at an example:"
     ]
    },
    {
     "cell_type": "code",
     "collapsed": false,
     "input": [
      "import numpy"
     ],
     "language": "python",
     "metadata": {},
     "outputs": [],
     "prompt_number": 4
    },
    {
     "cell_type": "code",
     "collapsed": false,
     "input": [
      "# 10 random numbers from the normal distribution\n",
      "x = numpy.random.randn(10)\n",
      "print x"
     ],
     "language": "python",
     "metadata": {},
     "outputs": [
      {
       "output_type": "stream",
       "stream": "stdout",
       "text": [
        "[ 0.83575465 -0.38725235 -1.85253931 -0.18169539 -1.63805177  1.2733453\n",
        " -1.58089026 -1.02711677 -0.90158365  0.06021346]\n"
       ]
      }
     ],
     "prompt_number": 5
    },
    {
     "cell_type": "markdown",
     "metadata": {},
     "source": [
      "Libraries sometimes define their own data types. In this case the `randn()` function has returned a numpy array, which we can see with the `type()` function:"
     ]
    },
    {
     "cell_type": "code",
     "collapsed": false,
     "input": [
      "print type(x)"
     ],
     "language": "python",
     "metadata": {},
     "outputs": [
      {
       "output_type": "stream",
       "stream": "stdout",
       "text": [
        "<type 'numpy.ndarray'>\n"
       ]
      }
     ],
     "prompt_number": 6
    }
   ],
   "metadata": {}
  }
 ]
}